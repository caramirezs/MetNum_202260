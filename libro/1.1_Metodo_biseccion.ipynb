{
 "cells": [
  {
   "cell_type": "markdown",
   "metadata": {
    "id": "JXkmmCVDa3je",
    "pycharm": {
     "name": "#%% md\n"
    }
   },
   "source": [
    "# 1.1 Método de *bisección*"
   ]
  },
  {
   "cell_type": "markdown",
   "metadata": {
    "id": "Mvy3QXBAa3jh",
    "pycharm": {
     "name": "#%% md\n"
    }
   },
   "source": [
    "[![Open In Colab](https://colab.research.google.com/assets/colab-badge.svg)](https://colab.research.google.com/github/caramirezs/MetNum_202210/blob/main/1_Ecuaciones_de_una_variable/1.1_Método_biseccion.ipynb)"
   ]
  },
  {
   "cell_type": "code",
   "execution_count": null,
   "outputs": [],
   "source": [
    "import numpy as np\n",
    "### El libro debe ser totalmente independiente\n",
    "#QUITAR\n",
    "from libro.lib.Equations_one_variable import EquationsOneVariable"
   ],
   "metadata": {
    "collapsed": false,
    "pycharm": {
     "name": "#%%\n"
    }
   }
  },
  {
   "cell_type": "markdown",
   "source": [
    "## 1.2 Sobre el Método Bisección\n",
    "\n",
    "Para que el método biseccion funcione se debe cumplir que dos condiciones\n",
    "\n",
    ">  i. $f(x)$ sea continua sobre un intervalo $[a, b]$ y\n",
    "\n",
    "> ii. $f(a)*f(b) < 0$.\n",
    "\n",
    "Por el teorema de Bolzano sabemos que: sí la funcion es continua en dicho intervalo luego $f(a)$ y $f(b)$ son de signos opuestos, luego esto implica que entre $a$ y $b$ existe al menos un $c$ tal que $f(c) = 0$. \n",
    "\n",
    "Luego el método de bisección toma esto como idea para crear su algoritmo iterativo. \n",
    "\n",
    "> Si $f(x)$ es una función continua sobre $[a, b]$ y $f(a) \\cdot f(b) < 0$, entonces por el teorema del valor intermedio se conoce que existe al menos una solución de la ecuación $f(x) = 0$ y es posible aplicar el\n",
    "siguiente procedimiento, denominado _método de bisección_, para determinar dicha solución.\n",
    "\n",
    "### 1.2.1 El **método** explicado paso a paso:\n",
    "\n",
    "**Paso 1:**  Seleccionar un intervalo $[a, b]$ , que encierren la raíz, de forma tal que la función cambie de signo en el intervalo. Esto se verifica comprobando que $f(a) \\cdot f(b) < 0$.\n",
    "\n",
    "**Paso 2:**  Seleccionar un $p_i$ tal que $p_i = \\frac{a + b}{2}$. Es decir, se calcula el punto intermadio del intervalo.\n",
    "\n",
    "**Paso 3:** Se comprueba que $f(p_i) = 0$. Si lo es, el método finaliza, en caso contrario continua.\n",
    "\n",
    "**Paso 4:** Realice las siguientes evaluaciones para determinar en qué subintervalo está\n",
    "la raíz:\n",
    "  * Sí $f(p_i) \\cdot  f(a) < 0$, entonces la raíz se encuentra dentro del subintervalo izquierdo. Por tanto,  $a = p_i$, se mantiene $b$ y vualva al **paso 2**.\n",
    "  * Sí $f(p_i) \\cdot  f(b) > 0$, entonces la raíz se encuentra dentro del subintervalo derecho. Por tanto, $b = p_i$, se mantiene $a$ y vualva al **paso 2**.\n",
    "  * Sí $f(p_i) \\cdot  f(a) = 0$, la raíz es igual $x = p_i$. Termina el cáculo\n",
    "\n",
    "Sí $f(p_i) \\neq 0$, repita el paso 2 al 4 hasta que se logre una tolerancia de error pequeña ó se agoten el número de iteraciones.\n",
    "\n",
    "**Graficamente de puede interpretar el métdo de Bisección**\n",
    "\n",
    "<img src=\"./imagenes/mbiseccion.png\"/>\n",
    "\n",
    "--- HABLAR DE LA ESTIMACIÓN DEL ERROR EN EL MÉTODO DE BISECCIÓN ---"
   ],
   "metadata": {
    "collapsed": false,
    "pycharm": {
     "name": "#%% md\n"
    }
   }
  },
  {
   "cell_type": "markdown",
   "source": [
    "--- PONEL EL DIGRAMA DE FLUJO DEL METODO ---"
   ],
   "metadata": {
    "collapsed": false,
    "pycharm": {
     "name": "#%% md\n"
    }
   }
  },
  {
   "cell_type": "markdown",
   "source": [
    "\n",
    "--- PONER LA FUNCIÓN DEL MÉTODO ---"
   ],
   "metadata": {
    "collapsed": false,
    "pycharm": {
     "name": "#%% md\n"
    }
   }
  },
  {
   "cell_type": "markdown",
   "source": [
    "### Ejemplo\n",
    "Resolver la ecuación $e^x - sin(x) = 3x^2 $ con una toleracia de $10^{-5}$.\n",
    "\n",
    "**Datos:**\n",
    "Función: $f(x) = e^x - sin(x) - 3x^2 $\n",
    "\n",
    "Intervalo: $[a, b] = [0, 2]$\n",
    "\n",
    "toleracia: $10^{-5}$\n",
    "\n",
    "**Procedimiento:**\n",
    "\n",
    "*Paso 1:* Se recomeinda graficar antes de empezar el calculo\n",
    "\n",
    "*Paso 2:* Hallar punto medio $p_i = \\frac{a + b}{2}$\n",
    "\n",
    "*Paso 3:* Evaluar la función $f(p_i)$\n",
    "\n",
    "*Paso 4:* Determunar el nuevo intervalo\n",
    "\n",
    "*Paso 5:* Cacular el error: $E_{abs} = |a -b|$\n",
    "\n",
    "*Nota:* El procedimiento de los *Pasos del 2 al 5* se realizan ejecutando el *met_biseccion()*"
   ],
   "metadata": {
    "collapsed": false,
    "pycharm": {
     "name": "#%% md\n"
    }
   }
  },
  {
   "cell_type": "markdown",
   "source": [
    "1. Graficar la ecuación en un intervalo a elección, para este caso el intervalo es $[0, 2]$:"
   ],
   "metadata": {
    "collapsed": false,
    "pycharm": {
     "name": "#%% md\n"
    }
   }
  },
  {
   "cell_type": "code",
   "execution_count": 1,
   "outputs": [
    {
     "ename": "NameError",
     "evalue": "name 'graficar' is not defined",
     "output_type": "error",
     "traceback": [
      "\u001B[1;31m---------------------------------------------------------------------------\u001B[0m",
      "\u001B[1;31mNameError\u001B[0m                                 Traceback (most recent call last)",
      "\u001B[1;32mC:\\Users\\Public\\Documents\\Wondershare\\CreatorTemp\\ipykernel_32784\\3198178119.py\u001B[0m in \u001B[0;36m<cell line: 3>\u001B[1;34m()\u001B[0m\n\u001B[0;32m      1\u001B[0m \u001B[0mf\u001B[0m \u001B[1;33m=\u001B[0m \u001B[1;32mlambda\u001B[0m \u001B[0mx\u001B[0m\u001B[1;33m:\u001B[0m \u001B[0mnp\u001B[0m\u001B[1;33m.\u001B[0m\u001B[0me\u001B[0m\u001B[1;33m**\u001B[0m\u001B[0mx\u001B[0m \u001B[1;33m-\u001B[0m \u001B[1;36m3\u001B[0m\u001B[1;33m*\u001B[0m\u001B[0mnp\u001B[0m\u001B[1;33m.\u001B[0m\u001B[0msin\u001B[0m\u001B[1;33m(\u001B[0m\u001B[0mx\u001B[0m\u001B[1;33m)\u001B[0m \u001B[1;33m-\u001B[0m \u001B[1;36m3\u001B[0m\u001B[1;33m*\u001B[0m\u001B[0mx\u001B[0m\u001B[1;33m\u001B[0m\u001B[1;33m\u001B[0m\u001B[0m\n\u001B[0;32m      2\u001B[0m \u001B[1;31m# Función que grafica\u001B[0m\u001B[1;33m\u001B[0m\u001B[1;33m\u001B[0m\u001B[0m\n\u001B[1;32m----> 3\u001B[1;33m \u001B[0mgraficar\u001B[0m\u001B[1;33m(\u001B[0m\u001B[0mf\u001B[0m\u001B[1;33m,\u001B[0m \u001B[1;36m0\u001B[0m\u001B[1;33m,\u001B[0m \u001B[1;36m2\u001B[0m\u001B[1;33m)\u001B[0m\u001B[1;33m\u001B[0m\u001B[1;33m\u001B[0m\u001B[0m\n\u001B[0m",
      "\u001B[1;31mNameError\u001B[0m: name 'graficar' is not defined"
     ]
    }
   ],
   "source": [
    "f = lambda x: np.e**x - 3*np.sin(x) - 3*x\n",
    "# Función que grafica\n",
    "graficar(f, 0, 2)"
   ],
   "metadata": {
    "collapsed": false,
    "pycharm": {
     "name": "#%%\n"
    }
   }
  },
  {
   "cell_type": "code",
   "execution_count": 4,
   "metadata": {
    "colab": {
     "base_uri": "https://localhost:8080/"
    },
    "id": "EuakfR1qa3ji",
    "outputId": "1be0f5b2-9885-449c-895b-8f0014d94045",
    "pycharm": {
     "name": "#%%\n"
    }
   },
   "outputs": [
    {
     "name": "stdout",
     "output_type": "stream",
     "text": [
      "ite 1 : a_0  = 0.0000, b_0  = 2.0000, p_1  = 1.00000 | e_abs: 1.000000e+00\n",
      "ite 2 : a_1  = 0.0000, b_1  = 1.0000, p_2  = 0.50000 | e_abs: 5.000000e-01\n",
      "ite 3 : a_2  = 0.5000, b_2  = 1.0000, p_3  = 0.75000 | e_abs: 2.500000e-01\n",
      "ite 4 : a_3  = 0.5000, b_3  = 0.7500, p_4  = 0.62500 | e_abs: 1.250000e-01\n",
      "ite 5 : a_4  = 0.6250, b_4  = 0.7500, p_5  = 0.68750 | e_abs: 6.250000e-02\n",
      "ite 6 : a_5  = 0.6250, b_5  = 0.6875, p_6  = 0.65625 | e_abs: 3.125000e-02\n",
      "ite 7 : a_6  = 0.6562, b_6  = 0.6875, p_7  = 0.67188 | e_abs: 1.562500e-02\n",
      "ite 8 : a_7  = 0.6562, b_7  = 0.6719, p_8  = 0.66406 | e_abs: 7.812500e-03\n",
      "ite 9 : a_8  = 0.6641, b_8  = 0.6719, p_9  = 0.66797 | e_abs: 3.906250e-03\n",
      "ite 10: a_9  = 0.6641, b_9  = 0.6680, p_10 = 0.66602 | e_abs: 1.953125e-03\n",
      "ite 11: a_10 = 0.6641, b_10 = 0.6660, p_11 = 0.66504 | e_abs: 9.765625e-04\n",
      "ite 12: a_11 = 0.6650, b_11 = 0.6660, p_12 = 0.66553 | e_abs: 4.882812e-04\n",
      "ite 13: a_12 = 0.6650, b_12 = 0.6655, p_13 = 0.66528 | e_abs: 2.441406e-04\n",
      "ite 14: a_13 = 0.6650, b_13 = 0.6653, p_14 = 0.66516 | e_abs: 1.220703e-04\n",
      "ite 15: a_14 = 0.6652, b_14 = 0.6653, p_15 = 0.66522 | e_abs: 6.103516e-05\n",
      "ite 16: a_15 = 0.6652, b_15 = 0.6653, p_16 = 0.66525 | e_abs: 3.051758e-05\n",
      "ite 17: a_16 = 0.6653, b_16 = 0.6653, p_17 = 0.66527 | e_abs: 1.525879e-05\n",
      "ite 18: a_17 = 0.6653, b_17 = 0.6653, p_18 = 0.66526 | e_abs: 7.629395e-06\n",
      ">>> Solución encontrada después de 18 iteraciones: x->0.665260314941406\n"
     ]
    },
    {
     "data": {
      "text/plain": [
       "0.6652603149414062"
      ]
     },
     "execution_count": 4,
     "metadata": {},
     "output_type": "execute_result"
    }
   ],
   "source": [
    "EquationsOneVariable.met_biseccion(f, 0, 2, tol=1e-5)"
   ]
  },
  {
   "cell_type": "markdown",
   "metadata": {
    "id": "cqJZzPlCPpgq",
    "pycharm": {
     "name": "#%% md\n"
    }
   },
   "source": [
    "# Ejercicios Prácticos"
   ]
  },
  {
   "cell_type": "markdown",
   "metadata": {
    "id": "x9XCEGrxP11l",
    "pycharm": {
     "name": "#%% md\n"
    }
   },
   "source": [
    "1.1.3.1 Resolver $e^x - 3 sin (x) = 3x$ con una tolerancia de $10^{-5}$\n",
    "\n",
    "**Datos:**\n",
    "\n",
    "$f(x) = e^x - 3 sin (x) = 3x$\n",
    "\n",
    "$(a, b)$ = $(0, 0.5)$\n",
    "\n",
    "$a$ = $0$\n",
    "\n",
    "$b$ = $0.5$\n",
    "\n",
    "Aproximación = $10^{-5}$\n"
   ]
  },
  {
   "cell_type": "code",
   "execution_count": 4,
   "metadata": {
    "pycharm": {
     "name": "#%%\n"
    }
   },
   "outputs": [
    {
     "data": {
      "image/png": "[encoded data removed]",
      "text/plain": [
       "<Figure size 1080x360 with 1 Axes>"
      ]
     },
     "metadata": {},
     "output_type": "display_data"
    }
   ],
   "source": [
    "f = lambda x: np.e**x - 3*np.sin(x) - 3*x\n",
    "# Función que grafica\n",
    "graficar(f, 0, 0.5)"
   ]
  },
  {
   "cell_type": "code",
   "execution_count": null,
   "metadata": {
    "id": "yLm-Cawxa3jk",
    "pycharm": {
     "name": "#%%\n"
    }
   },
   "outputs": [],
   "source": [
    "\n",
    "met_biseccion(f, 0, 0.5, tol=1e-5)"
   ]
  },
  {
   "cell_type": "markdown",
   "metadata": {
    "id": "SlNIulYjQHU-",
    "pycharm": {
     "name": "#%% md\n"
    }
   },
   "source": [
    "1.1.3.2 Resolver $tan(x) - x$"
   ]
  },
  {
   "cell_type": "code",
   "execution_count": null,
   "metadata": {
    "id": "zqMEA0Rka3jm",
    "outputId": "9a87c32d-7674-4038-f5e1-9c147b60de63",
    "pycharm": {
     "name": "#%%\n"
    }
   },
   "outputs": [
    {
     "name": "stdout",
     "output_type": "stream",
     "text": [
      "ite 1 : a_0  = 4.0000, b_0  = 4.5000, p_1  = 4.25000\n",
      "ite 2 : a_1  = 4.2500, b_1  = 4.5000, p_2  = 4.37500\n",
      "ite 3 : a_2  = 4.3750, b_2  = 4.5000, p_3  = 4.43750\n",
      "ite 4 : a_3  = 4.4375, b_3  = 4.5000, p_4  = 4.46875\n",
      "ite 5 : a_4  = 4.4688, b_4  = 4.5000, p_5  = 4.48438\n",
      "ite 6 : a_5  = 4.4844, b_5  = 4.5000, p_6  = 4.49219\n",
      "solución encontrada\n"
     ]
    },
    {
     "data": {
      "text/plain": [
       "4.4921875"
      ]
     },
     "execution_count": 25,
     "metadata": {},
     "output_type": "execute_result"
    }
   ],
   "source": [
    "f = lambda x: np.tan(x) - x\n",
    "met_biseccion(f, 4, 4.5, tol=1e-2)"
   ]
  },
  {
   "cell_type": "markdown",
   "metadata": {
    "id": "xag_FgMiQUSY",
    "pycharm": {
     "name": "#%% md\n"
    }
   },
   "source": [
    "1.1.3.3 Resolver $x^{10} - 1$"
   ]
  },
  {
   "cell_type": "code",
   "execution_count": null,
   "metadata": {
    "id": "jriR59p3a3jn",
    "outputId": "26fc43d3-cdfc-4edd-ad74-8af1807e196e",
    "pycharm": {
     "name": "#%%\n"
    }
   },
   "outputs": [
    {
     "name": "stdout",
     "output_type": "stream",
     "text": [
      "ite 1 : a_0  = 0.0000, b_0  = 1.2000, p_1  = 0.60000\n",
      "ite 2 : a_1  = 0.6000, b_1  = 1.2000, p_2  = 0.90000\n",
      "ite 3 : a_2  = 0.9000, b_2  = 1.2000, p_3  = 1.05000\n",
      "ite 4 : a_3  = 0.9000, b_3  = 1.0500, p_4  = 0.97500\n",
      "ite 5 : a_4  = 0.9750, b_4  = 1.0500, p_5  = 1.01250\n",
      "ite 6 : a_5  = 0.9750, b_5  = 1.0125, p_6  = 0.99375\n",
      "ite 7 : a_6  = 0.9937, b_6  = 1.0125, p_7  = 1.00312\n",
      "ite 8 : a_7  = 0.9937, b_7  = 1.0031, p_8  = 0.99844\n",
      "ite 9 : a_8  = 0.9984, b_8  = 1.0031, p_9  = 1.00078\n",
      "ite 10: a_9  = 0.9984, b_9  = 1.0008, p_10 = 0.99961\n",
      "ite 11: a_10 = 0.9996, b_10 = 1.0008, p_11 = 1.00020\n",
      "ite 12: a_11 = 0.9996, b_11 = 1.0002, p_12 = 0.99990\n",
      "ite 13: a_12 = 0.9999, b_12 = 1.0002, p_13 = 1.00005\n",
      "ite 14: a_13 = 0.9999, b_13 = 1.0000, p_14 = 0.99998\n",
      "ite 15: a_14 = 1.0000, b_14 = 1.0000, p_15 = 1.00001\n",
      "ite 16: a_15 = 1.0000, b_15 = 1.0000, p_16 = 0.99999\n",
      "ite 17: a_16 = 1.0000, b_16 = 1.0000, p_17 = 1.00000\n",
      "ite 18: a_17 = 1.0000, b_17 = 1.0000, p_18 = 1.00000\n",
      "ite 19: a_18 = 1.0000, b_18 = 1.0000, p_19 = 1.00000\n",
      "ite 20: a_19 = 1.0000, b_19 = 1.0000, p_20 = 1.00000\n",
      "ite 21: a_20 = 1.0000, b_20 = 1.0000, p_21 = 1.00000\n",
      "ite 22: a_21 = 1.0000, b_21 = 1.0000, p_22 = 1.00000\n",
      "ite 23: a_22 = 1.0000, b_22 = 1.0000, p_23 = 1.00000\n",
      "ite 24: a_23 = 1.0000, b_23 = 1.0000, p_24 = 1.00000\n",
      "ite 25: a_24 = 1.0000, b_24 = 1.0000, p_25 = 1.00000\n",
      "ite 26: a_25 = 1.0000, b_25 = 1.0000, p_26 = 1.00000\n",
      "ite 27: a_26 = 1.0000, b_26 = 1.0000, p_27 = 1.00000\n",
      "ite 28: a_27 = 1.0000, b_27 = 1.0000, p_28 = 1.00000\n",
      "ite 29: a_28 = 1.0000, b_28 = 1.0000, p_29 = 1.00000\n",
      "ite 30: a_29 = 1.0000, b_29 = 1.0000, p_30 = 1.00000\n",
      "ite 31: a_30 = 1.0000, b_30 = 1.0000, p_31 = 1.00000\n",
      "ite 32: a_31 = 1.0000, b_31 = 1.0000, p_32 = 1.00000\n",
      "ite 33: a_32 = 1.0000, b_32 = 1.0000, p_33 = 1.00000\n",
      "ite 34: a_33 = 1.0000, b_33 = 1.0000, p_34 = 1.00000\n",
      "ite 35: a_34 = 1.0000, b_34 = 1.0000, p_35 = 1.00000\n",
      "ite 36: a_35 = 1.0000, b_35 = 1.0000, p_36 = 1.00000\n",
      "ite 37: a_36 = 1.0000, b_36 = 1.0000, p_37 = 1.00000\n",
      "ite 38: a_37 = 1.0000, b_37 = 1.0000, p_38 = 1.00000\n",
      "ite 39: a_38 = 1.0000, b_38 = 1.0000, p_39 = 1.00000\n",
      "ite 40: a_39 = 1.0000, b_39 = 1.0000, p_40 = 1.00000\n",
      "ite 41: a_40 = 1.0000, b_40 = 1.0000, p_41 = 1.00000\n",
      "ite 42: a_41 = 1.0000, b_41 = 1.0000, p_42 = 1.00000\n",
      "ite 43: a_42 = 1.0000, b_42 = 1.0000, p_43 = 1.00000\n",
      "ite 44: a_43 = 1.0000, b_43 = 1.0000, p_44 = 1.00000\n",
      "ite 45: a_44 = 1.0000, b_44 = 1.0000, p_45 = 1.00000\n",
      "ite 46: a_45 = 1.0000, b_45 = 1.0000, p_46 = 1.00000\n",
      "ite 47: a_46 = 1.0000, b_46 = 1.0000, p_47 = 1.00000\n",
      "ite 48: a_47 = 1.0000, b_47 = 1.0000, p_48 = 1.00000\n",
      "ite 49: a_48 = 1.0000, b_48 = 1.0000, p_49 = 1.00000\n",
      "ite 50: a_49 = 1.0000, b_49 = 1.0000, p_50 = 1.00000\n",
      "solución encontrada\n"
     ]
    },
    {
     "data": {
      "text/plain": [
       "0.9999999999999994"
      ]
     },
     "execution_count": 34,
     "metadata": {},
     "output_type": "execute_result"
    }
   ],
   "source": [
    "f = lambda x: x**10 - 1\n",
    "met_biseccion(f, 0, 1.2, tol=1e-15, n=500)"
   ]
  }
 ],
 "metadata": {
  "colab": {
   "name": "1.1_Metodo_biseccion.ipynb.txt",
   "provenance": []
  },
  "kernelspec": {
   "display_name": "Python 3 (ipykernel)",
   "language": "python",
   "name": "python3"
  },
  "language_info": {
   "codemirror_mode": {
    "name": "ipython",
    "version": 3
   },
   "file_extension": ".py",
   "mimetype": "text/x-python",
   "name": "python",
   "nbconvert_exporter": "python",
   "pygments_lexer": "ipython3",
   "version": "3.9.13"
  },
  "vscode": {
   "interpreter": {
    "hash": "d983aa2a2bc164ca145b74c30a077245dc65a11395320957faf99b524e3477cb"
   }
  }
 },
 "nbformat": 4,
 "nbformat_minor": 1
}