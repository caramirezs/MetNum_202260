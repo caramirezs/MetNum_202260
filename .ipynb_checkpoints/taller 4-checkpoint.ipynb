{
 "cells": [
  {
   "cell_type": "markdown",
   "metadata": {
    "collapsed": true,
    "pycharm": {
     "name": "#%% md\n"
    }
   },
   "source": [
    "# Ajuste de curvas"
   ]
  },
  {
   "cell_type": "markdown",
   "metadata": {
    "pycharm": {
     "name": "#%% md\n"
    }
   },
   "source": [
    "[![Open In Colab](https://colab.research.google.com/assets/colab-badge.svg)](https://colab.research.google.com/github/caramirezs/MetNum_POLI/blob/main/2.0_Ajuste_de_curvas.ipynb)"
   ]
  },
  {
   "cell_type": "markdown",
   "metadata": {
    "pycharm": {
     "name": "#%% md\n"
    }
   },
   "source": [
    "## Polinomio de interpolación de Lagrange"
   ]
  },
  {
   "cell_type": "code",
   "execution_count": 147,
   "metadata": {
    "pycharm": {
     "name": "#%%\n"
    }
   },
   "outputs": [],
   "source": [
    "import numpy as np\n",
    "import sympy as sym\n",
    "import matplotlib.pyplot as plt\n",
    "from sklearn.linear_model import LinearRegression\n",
    "from sklearn.preprocessing import PolynomialFeatures\n",
    "from scipy.stats import expon\n",
    "from math import *\n",
    "from pprint import pprint\n",
    "import random\n"
   ]
  },
  {
   "cell_type": "code",
   "execution_count": 58,
   "metadata": {
    "pycharm": {
     "name": "#%%\n"
    }
   },
   "outputs": [],
   "source": [
    "# Interpolacion de Lagrange\n",
    "\n",
    "def LagrangePol(xi, fi):\n",
    "    # PROCEDIMIENTO\n",
    "    n = len(xi)\n",
    "    x = sym.Symbol('x')\n",
    "    polinomio = 0\n",
    "    divisorL = np.zeros(n, dtype = float)\n",
    "    for i in range(0,n,1):\n",
    "        # Termino de Lagrange\n",
    "        numerador = 1\n",
    "        denominador = 1\n",
    "        for j  in range(0,n,1):\n",
    "            if (j!=i):\n",
    "                numerador = numerador*(x-xi[j])\n",
    "                denominador = denominador*(xi[i]-xi[j])\n",
    "        terminoLi = numerador/denominador\n",
    "\n",
    "        polinomio = polinomio + terminoLi*fi[i]\n",
    "        divisorL[i] = denominador\n",
    "\n",
    "    # simplifica el polinomio\n",
    "    polisimple = polinomio.expand()\n",
    "\n",
    "    # para evaluación numérica\n",
    "    px = sym.lambdify(x,polisimple)\n",
    "\n",
    "    # Puntos para la gráfica\n",
    "    muestras = 1001\n",
    "    a = np.min(xi)\n",
    "    b = np.max(xi)\n",
    "    pxi = np.linspace(0.9*a,1.1*b,muestras)\n",
    "    pfi = px(pxi)\n",
    "\n",
    "    # SALIDA\n",
    "    print('    valores de fi: ',fi)\n",
    "    print('divisores en L(i): ',divisorL)\n",
    "    print()\n",
    "    print('Polinomio de Lagrange, expresiones')\n",
    "    print(polinomio)\n",
    "    print()\n",
    "    print('Polinomio de Lagrange: ')\n",
    "    print(polisimple)\n",
    "    \n",
    "    return xi, fi, pxi, pfi\n",
    "\n"
   ]
  },
  {
   "cell_type": "markdown",
   "metadata": {},
   "source": [
    "## Ejercicio 02. \n",
    "Se tienen los siguientes datos de un experimento:\n",
    "\n",
    "$\n",
    "[(-4.5, -20.625), (-3.5, 14.625), (-2.5, 28.875), (-1.5, 28.125),\n",
    "(-0.5, 18.375), (0.5, 5.625), (1.5, -4.125), (2.5, -4.875), (3.5, 9.375), (4.5, 44.625)]\n",
    "$\n",
    "\n",
    "1. Utilice alg´un m´etodo de interpolaci´on para encontrar el polinomio que interpola todos los datos. ¿Qu´e grado tiene el polin´omio?"
   ]
  },
  {
   "cell_type": "markdown",
   "metadata": {},
   "source": []
  },
  {
   "cell_type": "code",
   "execution_count": 60,
   "metadata": {},
   "outputs": [
    {
     "name": "stdout",
     "output_type": "stream",
     "text": [
      "    valores de fi:  [-20.625, 14.625, 28.875, 28.125, 18.375, 5.625, -4.125, -4.875, 9.375, 44.625]\n",
      "divisores en L(i):  [-362880.   40320.  -10080.    4320.   -2880.    2880.   -4320.   10080.\n",
      "  -40320.  362880.]\n",
      "\n",
      "Polinomio de Lagrange, expresiones\n",
      "5.68369708994709e-5*(x - 4.5)*(x - 3.5)*(x - 2.5)*(x - 1.5)*(x - 0.5)*(x + 0.5)*(x + 1.5)*(x + 2.5)*(x + 3.5) + 0.000362723214285714*(x - 4.5)*(x - 3.5)*(x - 2.5)*(x - 1.5)*(x - 0.5)*(x + 0.5)*(x + 1.5)*(x + 2.5)*(x + 4.5) - 0.00286458333333333*(x - 4.5)*(x - 3.5)*(x - 2.5)*(x - 1.5)*(x - 0.5)*(x + 0.5)*(x + 1.5)*(x + 3.5)*(x + 4.5) + 0.00651041666666667*(x - 4.5)*(x - 3.5)*(x - 2.5)*(x - 1.5)*(x - 0.5)*(x + 0.5)*(x + 2.5)*(x + 3.5)*(x + 4.5) - 0.00638020833333333*(x - 4.5)*(x - 3.5)*(x - 2.5)*(x - 1.5)*(x - 0.5)*(x + 1.5)*(x + 2.5)*(x + 3.5)*(x + 4.5) + 0.001953125*(x - 4.5)*(x - 3.5)*(x - 2.5)*(x - 1.5)*(x + 0.5)*(x + 1.5)*(x + 2.5)*(x + 3.5)*(x + 4.5) + 0.000954861111111111*(x - 4.5)*(x - 3.5)*(x - 2.5)*(x - 0.5)*(x + 0.5)*(x + 1.5)*(x + 2.5)*(x + 3.5)*(x + 4.5) - 0.000483630952380952*(x - 4.5)*(x - 3.5)*(x - 1.5)*(x - 0.5)*(x + 0.5)*(x + 1.5)*(x + 2.5)*(x + 3.5)*(x + 4.5) - 0.000232514880952381*(x - 4.5)*(x - 2.5)*(x - 1.5)*(x - 0.5)*(x + 0.5)*(x + 1.5)*(x + 2.5)*(x + 3.5)*(x + 4.5) + 0.000122974537037037*(x - 3.5)*(x - 2.5)*(x - 1.5)*(x - 0.5)*(x + 0.5)*(x + 1.5)*(x + 2.5)*(x + 3.5)*(x + 4.5)\n",
      "\n",
      "Polinomio de Lagrange: \n",
      "1.30104260698261e-18*x**9 + 8.67361737988404e-19*x**8 - 5.55111512312578e-17*x**7 + 5.55111512312578e-17*x**6 + 3.33066907387547e-16*x**5 - 4.44089209850063e-16*x**4 + 0.999999999999997*x**3 - 13.0*x + 12.0\n"
     ]
    },
    {
     "data": {
      "image/png": "[encoded data removed]",
      "text/plain": [
       "<Figure size 432x288 with 1 Axes>"
      ]
     },
     "metadata": {
      "needs_background": "light"
     },
     "output_type": "display_data"
    }
   ],
   "source": [
    "#Ejercicio 2 Taller 4\n",
    "\n",
    "ar_list = [(-4.5, -20.625), (-3.5, 14.625), (-2.5, 28.875), (-1.5, 28.125),\n",
    "(-0.5, 18.375), (0.5, 5.625), (1.5, -4.125), (2.5, -4.875), (3.5, 9.375), (4.5, 44.625)]\n",
    "\n",
    "xi = []\n",
    "fi = []\n",
    "\n",
    "for items in ar_list:\n",
    "    xi.append(items[0])\n",
    "    fi.append(items[1])\n",
    "# Se utiliza metodo de Lgrange para encontrar el rado    \n",
    "xi,fi, pxi,pfi = LagrangePol(xi, fi)\n",
    "\n",
    "# Gráfica\n",
    "plt.plot(xi,fi,'o', label = 'Puntos')\n",
    "plt.plot(pxi,pfi, label = 'Polinomio')\n",
    "plt.legend()\n",
    "plt.xlabel('xi')\n",
    "plt.ylabel('fi')\n",
    "plt.title('Interpolación Lagrange')\n",
    "plt.show()\n"
   ]
  },
  {
   "cell_type": "markdown",
   "metadata": {},
   "source": [
    "### Resultado\n",
    "\n",
    "*Polinomio de Lagrange:*\n",
    "\n",
    "\n",
    "$\n",
    "1.30104260698261e-18*x**9 + 8.67361737988404e-19*x**8 - 5.55111512312578e-17*x**7 + 5.55111512312578e-17*x**6 + 3.33066907387547e-16*x**5 - 4.44089209850063e-16*x**4 + 0.999999999999997*x**3 - 13.0*x + 12.0\n",
    "$\n",
    "\n",
    "EL polinimi es es grado 3 ya que resilviendo la mayoria d elos polinimios dan cero por ende el polinomio resultante es de grado 3\n",
    "\n",
    "2. Con el polinomio de interpolaci´on, encuentre los valores para x = −4, x = 1 y x = 3\n",
    "   \n",
    "   Se evelua la función resultante, remplazando la $x$ con los valores"
   ]
  },
  {
   "cell_type": "code",
   "execution_count": 57,
   "metadata": {},
   "outputs": [
    {
     "name": "stdout",
     "output_type": "stream",
     "text": [
      "X=-4:  1.9184653865522705e-13\n",
      "X=1:  -3.552713678800501e-15\n",
      "X=3:  -8.171241461241152e-14\n"
     ]
    }
   ],
   "source": [
    "# Replazamos cuan X tenga un valor según función encontrada\n",
    "_fuc = lambda x: 0.999999999999997*x**3 - 13.0*x + 12.0\n",
    "\n",
    "# X= -4\n",
    "X = _fuc(-4)\n",
    "\n",
    "print('X=-4: ', X)\n",
    "\n",
    "# X= 1\n",
    "X = _fuc(1)\n",
    "\n",
    "print('X=1: ', X)\n",
    "\n",
    "# X= 3\n",
    "X = _fuc(3)\n",
    "\n",
    "print('X=3: ', X)"
   ]
  },
  {
   "cell_type": "markdown",
   "metadata": {},
   "source": [
    "3. Grafique los puntos y el polinomio encontrado en una misma gráfica"
   ]
  },
  {
   "cell_type": "code",
   "execution_count": 72,
   "metadata": {},
   "outputs": [
    {
     "data": {
      "image/png": "[encoded data removed]",
      "text/plain": [
       "<Figure size 432x288 with 1 Axes>"
      ]
     },
     "metadata": {
      "needs_background": "light"
     },
     "output_type": "display_data"
    }
   ],
   "source": [
    "# Gráfica\n",
    "y4 = 1.9184653865522705e-13\n",
    "y1 =  -3.552713678800501e-15\n",
    "y3 = -8.171241461241152e-14\n",
    "\n",
    "plt.plot(xi,fi,'o', label = 'Puntos')\n",
    "plt.plot(pxi,pfi, label = 'Polinomio')\n",
    "plt.plot(-4,y4, '*', label = 'x=-4')\n",
    "plt.plot(3,y3, '*', label = 'x=3')\n",
    "plt.plot(1,y1, '*', label = 'x=1')\n",
    "plt.legend()\n",
    "plt.xlabel('xi')\n",
    "plt.ylabel('fi')\n",
    "plt.title('Interpolación Lagrange')\n",
    "plt.show()"
   ]
  },
  {
   "cell_type": "markdown",
   "metadata": {},
   "source": [
    "4. Encuentre el mejor modelo de regresi´on (lineal, cuadr´atico, polinomial, exponencial, potencia) para el experimento."
   ]
  },
  {
   "cell_type": "code",
   "execution_count": 168,
   "metadata": {},
   "outputs": [
    {
     "name": "stdout",
     "output_type": "stream",
     "text": [
      "********Regresión Cuadratica*******\n",
      "x =  [-4.5 -3.5 -2.5 -1.5 -0.5  0.5  1.5  2.5  3.5  4.5]\n",
      "y =  [-20.625  14.625  28.875  28.125  18.375   5.625  -4.125  -4.875   9.375\n",
      "  44.625]\n",
      "0.0 82.5 0.0 1208.625\n",
      "120.0 136.125 990.0\n",
      "Regresión cuadrática: y = 0.000x^2 + 1.650x + 12.000\n",
      "xi =  [-4.5   -4.491 -4.482 ...  4.482  4.491  4.5  ]\n"
     ]
    },
    {
     "data": {
      "image/png": "[encoded data removed]",
      "text/plain": [
       "<Figure size 432x288 with 1 Axes>"
      ]
     },
     "metadata": {
      "needs_background": "light"
     },
     "output_type": "display_data"
    },
    {
     "name": "stdout",
     "output_type": "stream",
     "text": [
      "********Fin Cuadratica*******\n"
     ]
    }
   ],
   "source": [
    "ar_list = [(-4.5, -20.625), (-3.5, 14.625), (-2.5, 28.875), (-1.5, 28.125), (-0.5, 18.375), (0.5, 5.625), (1.5, -4.125), (2.5, -4.875), (3.5, 9.375), (4.5, 44.625)]\n",
    "\n",
    "x = []\n",
    "xi = []\n",
    "\n",
    "for items in ar_list:\n",
    "    x.append(items[0])\n",
    "    xi.append(items[1])\n",
    "    \n",
    "x =  x\n",
    "y =  xi\n",
    "\n",
    "x, y = np.array(x), np.array(y)\n",
    "print(\"********Regresión Cuadratica*******\")\n",
    "print('x = ', x)\n",
    "print('y = ', y)\n",
    "sum_xi = np.sum(x)\n",
    "sum_xi_2 = np.sum(x**2)\n",
    "sum_xi_3 = np.sum(x**3)\n",
    "sum_xi_4 = np.sum(x**4)\n",
    "sum_yi = np.sum(y)\n",
    "sum_xiyi = np.sum(x*y)\n",
    "sum_xi_2yi = np.sum(x**2*y)\n",
    "print(sum_xi, sum_xi_2, sum_xi_3, sum_xi_4)\n",
    "print(sum_yi, sum_xiyi, sum_xi_2yi)\n",
    "a = np.array([[sum_xi_4, sum_xi_3, sum_xi_2],\n",
    "              [sum_xi_3, sum_xi_2, sum_xi],\n",
    "              [sum_xi_2, sum_xi, len(x)]])\n",
    "b = np.array([sum_xi_2yi, sum_xiyi ,sum_yi])\n",
    "solve_2 = np.linalg.solve(a, b)\n",
    "f_cuad = lambda x: solve_2[0]*x**2 + solve_2[1]*x + solve_2[2]\n",
    "print(f'Regresión cuadrática: y = {solve_2[0]:.3f}x^2 + {solve_2[1]:.3f}x + {solve_2[2]:.3f}')\n",
    "\n",
    "\n",
    "xi = np.linspace(np.min(x),np.max(x),1001)\n",
    "print('xi = ', xi)\n",
    "plt.plot(x, y,'o')\n",
    "plt.plot(xi, f_cuad(xi),':')\n",
    "plt.show()\n",
    "print(\"********Fin Cuadratica*******\")\n",
    "    \n",
    "    "
   ]
  },
  {
   "cell_type": "markdown",
   "metadata": {},
   "source": [
    "5. Con el modelo de regresi´on, encuentre los valores para x = −4, x = 1 y x = 3\n",
    "   \n",
    "$\n",
    "   y = 0.000x^2 + 1.650x + 12.000\n",
    "$\n",
    "   "
   ]
  },
  {
   "cell_type": "code",
   "execution_count": 178,
   "metadata": {},
   "outputs": [
    {
     "name": "stdout",
     "output_type": "stream",
     "text": [
      "X=-4:  16.95\n",
      "X=1:  16.95\n",
      "X=3:  16.95\n"
     ]
    }
   ],
   "source": [
    "fc = lambda x:0.000*x**2 + 1.650*x + 12.000\n",
    "\n",
    "# X= -4\n",
    "y4 = fc(-4)\n",
    "\n",
    "print('X=-4: ', X)\n",
    "\n",
    "# X= 1\n",
    "y1 = fc(1)\n",
    "\n",
    "print('X=1: ', X)\n",
    "\n",
    "# X= 3\n",
    "y3 = fc(3)\n",
    "\n",
    "print('X=3: ', X)"
   ]
  },
  {
   "cell_type": "markdown",
   "metadata": {},
   "source": [
    "6. Grafique los puntos, el polinomio de interpolaci´on y el modelo de regresi´on encontrado en una misma gr´afica."
   ]
  },
  {
   "cell_type": "code",
   "execution_count": 179,
   "metadata": {},
   "outputs": [
    {
     "name": "stdout",
     "output_type": "stream",
     "text": [
      "    valores de fi:  [-20.625  14.625  28.875  28.125  18.375   5.625  -4.125  -4.875   9.375\n",
      "  44.625]\n",
      "divisores en L(i):  [-362880.   40320.  -10080.    4320.   -2880.    2880.   -4320.   10080.\n",
      "  -40320.  362880.]\n",
      "\n",
      "Polinomio de Lagrange, expresiones\n",
      "5.68369708994709e-5*(x - 4.5)*(x - 3.5)*(x - 2.5)*(x - 1.5)*(x - 0.5)*(x + 0.5)*(x + 1.5)*(x + 2.5)*(x + 3.5) + 0.000362723214285714*(x - 4.5)*(x - 3.5)*(x - 2.5)*(x - 1.5)*(x - 0.5)*(x + 0.5)*(x + 1.5)*(x + 2.5)*(x + 4.5) - 0.00286458333333333*(x - 4.5)*(x - 3.5)*(x - 2.5)*(x - 1.5)*(x - 0.5)*(x + 0.5)*(x + 1.5)*(x + 3.5)*(x + 4.5) + 0.00651041666666667*(x - 4.5)*(x - 3.5)*(x - 2.5)*(x - 1.5)*(x - 0.5)*(x + 0.5)*(x + 2.5)*(x + 3.5)*(x + 4.5) - 0.00638020833333333*(x - 4.5)*(x - 3.5)*(x - 2.5)*(x - 1.5)*(x - 0.5)*(x + 1.5)*(x + 2.5)*(x + 3.5)*(x + 4.5) + 0.001953125*(x - 4.5)*(x - 3.5)*(x - 2.5)*(x - 1.5)*(x + 0.5)*(x + 1.5)*(x + 2.5)*(x + 3.5)*(x + 4.5) + 0.000954861111111111*(x - 4.5)*(x - 3.5)*(x - 2.5)*(x - 0.5)*(x + 0.5)*(x + 1.5)*(x + 2.5)*(x + 3.5)*(x + 4.5) - 0.000483630952380952*(x - 4.5)*(x - 3.5)*(x - 1.5)*(x - 0.5)*(x + 0.5)*(x + 1.5)*(x + 2.5)*(x + 3.5)*(x + 4.5) - 0.000232514880952381*(x - 4.5)*(x - 2.5)*(x - 1.5)*(x - 0.5)*(x + 0.5)*(x + 1.5)*(x + 2.5)*(x + 3.5)*(x + 4.5) + 0.000122974537037037*(x - 3.5)*(x - 2.5)*(x - 1.5)*(x - 0.5)*(x + 0.5)*(x + 1.5)*(x + 2.5)*(x + 3.5)*(x + 4.5)\n",
      "\n",
      "Polinomio de Lagrange: \n",
      "1.30104260698261e-18*x**9 + 8.67361737988404e-19*x**8 - 5.55111512312578e-17*x**7 + 5.55111512312578e-17*x**6 + 3.33066907387547e-16*x**5 - 4.44089209850063e-16*x**4 + 0.999999999999997*x**3 - 13.0*x + 12.0\n",
      "********Regreasión Cuadratica*******\n",
      "cxi =  [-4.5   -4.491 -4.482 ...  4.482  4.491  4.5  ]\n",
      "********Fin Cuadratica*******\n"
     ]
    },
    {
     "data": {
      "image/png": "[encoded data removed]",
      "text/plain": [
       "<Figure size 432x288 with 1 Axes>"
      ]
     },
     "metadata": {
      "needs_background": "light"
     },
     "output_type": "display_data"
    }
   ],
   "source": [
    "ar_list = [(-4.5, -20.625), (-3.5, 14.625), (-2.5, 28.875), (-1.5, 28.125),\n",
    "(-0.5, 18.375), (0.5, 5.625), (1.5, -4.125), (2.5, -4.875), (3.5, 9.375), (4.5, 44.625)]\n",
    "\n",
    "x = []\n",
    "y = []\n",
    "\n",
    "for items in ar_list:\n",
    "    x.append(items[0])\n",
    "    y.append(items[1])\n",
    "# Se utiliza metodo de Lgrange para encontrar el rado    \n",
    "x, y = np.array(x), np.array(y)\n",
    "xi,fi, pxi,pfi = LagrangePol(x, y)\n",
    "\n",
    "#regresión cuadratica\n",
    "print(\"********Regreasión Cuadratica*******\")\n",
    "cxi = np.linspace(np.min(x),np.max(x),1001)\n",
    "print('cxi = ', cxi)\n",
    "print(\"********Fin Cuadratica*******\")\n",
    "\n",
    "# Gráfica\n",
    "plt.plot(xi,fi,'o', label = 'Puntos')\n",
    "plt.plot(pxi,pfi, label = 'Polinomio')\n",
    "plt.plot(cxi, f_cuad(cxi),':', label = 'R.Cuad')\n",
    "plt.plot(-4,y4, '*', label = 'x=-4')\n",
    "plt.plot(3,y3, '*', label = 'x=3')\n",
    "plt.plot(1,y1, '*', label = 'x=1')\n",
    "plt.legend()\n",
    "plt.xlabel('xi')\n",
    "plt.ylabel('fi')\n",
    "plt.title('Interpolación Lagrange')\n",
    "plt.show()\n"
   ]
  }
 ],
 "metadata": {
  "kernelspec": {
   "display_name": "Python 3 (ipykernel)",
   "language": "python",
   "name": "python3"
  },
  "language_info": {
   "codemirror_mode": {
    "name": "ipython",
    "version": 3
   },
   "file_extension": ".py",
   "mimetype": "text/x-python",
   "name": "python",
   "nbconvert_exporter": "python",
   "pygments_lexer": "ipython3",
   "version": "3.7.9"
  },
  "vscode": {
   "interpreter": {
    "hash": "d983aa2a2bc164ca145b74c30a077245dc65a11395320957faf99b524e3477cb"
   }
  }
 },
 "nbformat": 4,
 "nbformat_minor": 1
}
