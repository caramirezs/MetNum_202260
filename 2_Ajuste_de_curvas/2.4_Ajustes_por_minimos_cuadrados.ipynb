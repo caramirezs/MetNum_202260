{
 "cells": [
  {
   "cell_type": "markdown",
   "metadata": {},
   "source": [
    "# 2.4 Ajuste por mínimos cuadrados"
   ]
  },
  {
   "cell_type": "code",
   "execution_count": null,
   "metadata": {},
   "outputs": [],
   "source": [
    "import numpy as np\n",
    "import sympy as sym\n",
    "import matplotlib.pyplot as plt"
   ]
  },
  {
   "cell_type": "markdown",
   "metadata": {},
   "source": [
    "## Funciones en python"
   ]
  },
  {
   "cell_type": "code",
   "execution_count": null,
   "metadata": {},
   "outputs": [],
   "source": [
    "# Interpolacion de Lagrange\n",
    "# INGRESO , Datos de prueba\n",
    "xi = np.array([1, 3, -2, 4])\n",
    "fi = np.array([-5, 1, -29, 19])\n",
    "\n",
    "# PROCEDIMIENTO\n",
    "n = len(xi)\n",
    "x = sym.Symbol('x')\n",
    "polinomio = 0\n",
    "divisorL = np.zeros(n, dtype = float)\n",
    "for i in range(0,n,1):\n",
    "    # Termino de Lagrange\n",
    "    numerador = 1\n",
    "    denominador = 1\n",
    "    for j  in range(0,n,1):\n",
    "        if (j!=i):\n",
    "            numerador = numerador*(x-xi[j])\n",
    "            denominador = denominador*(xi[i]-xi[j])\n",
    "    terminoLi = numerador/denominador\n",
    "\n",
    "    polinomio = polinomio + terminoLi*fi[i]\n",
    "    divisorL[i] = denominador\n",
    "\n",
    "# simplifica el polinomio\n",
    "polisimple = polinomio.expand()\n",
    "\n",
    "# para evaluación numérica\n",
    "px = sym.lambdify(x,polisimple)\n",
    "\n",
    "# Puntos para la gráfica\n",
    "muestras = 1001\n",
    "a = np.min(xi)\n",
    "b = np.max(xi)\n",
    "pxi = np.linspace(0.9*a,1.1*b,muestras)\n",
    "pfi = px(pxi)\n",
    "\n",
    "# SALIDA\n",
    "print('    valores de fi: ',fi)\n",
    "print('divisores en L(i): ',divisorL)\n",
    "print()\n",
    "print('Polinomio de Lagrange, expresiones')\n",
    "print(polinomio)\n",
    "print()\n",
    "print('Polinomio de Lagrange: ')\n",
    "print(polisimple)\n",
    "\n",
    "# Gráfica\n",
    "plt.plot(xi,fi,'o', label = 'Puntos')\n",
    "plt.plot(pxi,pfi, label = 'Polinomio')\n",
    "plt.legend()\n",
    "plt.xlabel('xi')\n",
    "plt.ylabel('fi')\n",
    "plt.title('Interpolación Lagrange')\n",
    "plt.show()"
   ]
  },
  {
   "cell_type": "markdown",
   "metadata": {},
   "source": [
    "Si lo que se desea es marcar una tendencia, los polinomios de ajuste exacto no son los más adecuados,\n",
    "es mejor buscar una curva (más simple), que tal vez no “toque” ningún punto, pero que pase “cerca”\n",
    "de cada uno de ello.\n",
    "\n",
    "parece que la relación real entre $x$ y $y$ es lineal. La razón probable para que ninguna línea se\n",
    "ajuste con precisión a los datos son los errores en estos últimos. Por lo que es poco razonable\n",
    "solicitar que la función de aproximación concuerde exactamente con los datos. De hecho,\n",
    "dicha función introduciría oscilaciones que no estaban presentes originalmente.\n",
    "\n",
    "## Errores\n",
    "\n",
    "En la búsqueda de encontrar una curva \"cercana\" a una serie de puntos, es necesario definir cómo\n",
    "*medir* el error que se comete al seleccionar una función $ \\bar f(x) $. Existen varias posibilidades.\n",
    "\n",
    "**Error relativo**: suponer que se tienen $n + 1$ puntos y que estos se ajustan con la función $ \\bar f(x) $. El\n",
    "error relativo que se comete con la función de ajuste es $ E_r \\sum_{i=0}^n (y_i - \\bar f(x)) $. Un problema en esta\n",
    "situación es de compensación, es decir, pueden existir errores grandes que al sumarlos con otros de\n",
    "igual magnitud pero de signo contrario, se cancelen y pareciera no ser entonces tan crítica la situación.\n",
    "\n",
    "**Error absoluto**: para evitar que el error se compense, se toma el valor absoluto y el error se puede\n",
    "calcular como $ E_a = \\sum_{i=0}^n|y_i - \\bar f(x)|$. Este error presenta dos problemas. Primero, puede ser que una\n",
    "curva ajuste bien una lista de puntos, pero la suma de errores pequeños en cada punto puede finalmente\n",
    "arrojar un error grande, y segundo, el hecho que la función valor absoluto presente problemas de\n",
    "diferenciabilidad en un punto lo hace difícil de tratar.\n",
    "\n",
    "**Error cuadrático**: esta manera de medir el error tiene la virtud de no presentar problemas de\n",
    "diferenciabilidad y se define como: $ E_c \\sum_{i=0}^n (y_i - \\bar f(x))^2 $.\n",
    "\n",
    "## Funciones de ajuste\n",
    "\n",
    "En la selección de la función de ajuste $ \\bar f(x) $, normalmente se escoge una combinación lineal de familias\n",
    "de funciones base . Algunas de las familias más utilizadas en la práctica incluyen:\n",
    "\n",
    "**Monomios:** $ \\lbrace 1, x, x^2, ...\\rbrace $\n",
    "\n",
    "**Exponenciales:** $ \\lbrace 1, e^{\\pm x}, e^{\\pm 2x}, ...\\rbrace $\n",
    "\n",
    "**Exponenciales complejas:** $ \\lbrace 1, e^{\\pm ix}, e^{\\pm 2ix}, ...\\rbrace $\n",
    "\n",
    "**Funciones seno y coseno:** $ \\lbrace 1, \\cos x, \\cos 2x, ...; \\sin x, \\sin 2x\\rbrace $\n",
    "\n",
    "\n",
    "Cada uno de estos conjuntos se selecciona según la naturaleza de los datos a trabajar. En la próxima\n",
    "sección se estudian funciones de ajuste $\\bar f(x)$ que son combinaciones lineales de la familia de los\n",
    "*monomios* ."
   ]
  }
 ],
 "metadata": {
  "kernelspec": {
   "display_name": "Python 3.7.9 64-bit",
   "language": "python",
   "name": "python3"
  },
  "language_info": {
   "codemirror_mode": {
    "name": "ipython",
    "version": 2
   },
   "file_extension": ".py",
   "mimetype": "text/x-python",
   "name": "python",
   "nbconvert_exporter": "python",
   "pygments_lexer": "ipython2",
   "version": "3.7.9"
  },
  "vscode": {
   "interpreter": {
    "hash": "d983aa2a2bc164ca145b74c30a077245dc65a11395320957faf99b524e3477cb"
   }
  }
 },
 "nbformat": 4,
 "nbformat_minor": 0
}
