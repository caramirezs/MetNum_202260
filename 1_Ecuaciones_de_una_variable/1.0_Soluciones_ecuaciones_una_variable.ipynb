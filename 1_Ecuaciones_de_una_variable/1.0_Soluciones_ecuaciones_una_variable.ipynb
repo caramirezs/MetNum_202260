{
 "cells": [
  {
   "cell_type": "markdown",
   "metadata": {
    "pycharm": {
     "name": "#%% md\n"
    }
   },
   "source": [
    "# 1 Soluciones de las ecuaciones de una variable"
   ]
  },
  {
   "cell_type": "markdown",
   "metadata": {
    "pycharm": {
     "name": "#%% md\n"
    }
   },
   "source": [
    "[![Open In Colab](https://colab.research.google.com/assets/colab-badge.svg)](https://colab.research.google.com/github/caramirezs/MetNum_202210/blob/main/1_Ecuaciones_de_una_variable/1.0_Metodo_grafico.ipynb)"
   ]
  },
  {
   "cell_type": "code",
   "execution_count": 4,
   "metadata": {
    "pycharm": {
     "name": "#%%\n"
    }
   },
   "outputs": [],
   "source": [
    "import matplotlib.pyplot as plt\n",
    "import pandas as pd\n",
    "import numpy as np"
   ]
  },
  {
   "cell_type": "markdown",
   "metadata": {
    "pycharm": {
     "name": "#%% md\n"
    }
   },
   "source": [
    "## 1.0 Marco Teórico: Introducción a ecuaciones de una variable"
   ]
  },
  {
   "cell_type": "markdown",
   "metadata": {
    "pycharm": {
     "name": "#%% md\n"
    }
   },
   "source": [
    "Antes de ahondar en el ejercicio de solucionar ecuaciones de una variable, recordemos como en los cursos de matemáticas fundamentales se solucionan algunas ecuaciones sencillas, por ejemplo, pensemos en la ecuación cuadrática de la forma clásica:\n",
    "\n",
    "$$ax^2 + bx + c = 0$$\n",
    "\n",
    "que se puede resolver con la forma:\n",
    "\n",
    "$$x = \\frac{-b \\pm \\sqrt{b^2 - 4ac}}{2a}$$\n",
    "\n",
    "A los valores de la solución de la ecuación se les llama \"raíces\"o \"cortes\" de la función cuadrática $f(x) = ax^2 + bx + c$. Para este escenario en particular encontrar las $x$ en donde $f(x) = 0$ es sencillo. \n",
    "\n",
    "> Recuerda: Encontrar raices o ceros de las funciones es parte fundamental en la practica del desarrollo de actividades relacionadas con ciencia e ingenieria.\n",
    "\n",
    "Seguramente nos hemos encontrado con otras ecuaciones las cuales se conocen procesos algebraicos para solucionarlas, entre ellas pueden estar las ecuaciones lineales, exponenciales, trigonométricas, entre otras.\n",
    "\n",
    "Ahora pensemos en ecuaciones que no se pueden resolver facilmente, por ejemplo aquellas que involucran funciones polinómicas:\n",
    "\n",
    "$$f(x) = a_n x^n + a_{n-1}x^{n-1} + ... + a_1x + a_0$$\n",
    "\n",
    "aquí, cuando el $n>2$, solucionar la ecuación $f(x) = 0$ para encontrar valores de $x$ sería muy complejo.\n",
    "\n",
    "En general, muchos modelos dan como resultados ecuaciones cuyas soluciones no son sencillas de determinar, o simplemente no se pueden encontrar de manera analítica.\n",
    "\n",
    "Es aquí donde algunos _métodos númericos_ vienen al rescate para encontrar las posibles soluciones a ecuaciones de una variable.\n",
    "\n",
    "> Observación: En adelante, para resolver una ecuación es *necesario* que este igualada a cero, es decir, de la forma $f(x) = 0$, lo cual equivale a encontrar los ceros de $f(x)$.\n",
    "\n",
    "> Ejemplo: Encotrar las soluciones de la ecuación $\\cos(x^2) - 3x = \\sin^2(x) -2x^2$ es lo mismo que solucionar la ecuación $\\cos(x^2) - 3x - \\sin^2(x) + 2x^2 = 0$, de tal manera que $f(x) = \\cos(x^2) - 3x - \\sin^2(x) + 2x^2 = 0$\n",
    "\n",
    "Existen diferente métodos que se aplican a diferentes tipos de ecuaciones, y algunos métodos pueden resolver más de un tipo de ecuación. A continuación enumeramos los que vamos a estudiar en este curso.\n",
    "\n",
    "### 1.0.1 Tipos de Métodos\n",
    "* *Métodos cerrados:* Estos métodos aprovechan el hecho de que una función contínua cambia de signo cerca de su raíz, para utilizarlos se necesita un intervalo cerrado en el cual está la raíz que se desa hallar. Se destacan:\n",
    "    * *Método gráfico*\n",
    "    * *Método de bisección*\n",
    "    * *Método _regula falsi_*\n",
    "* *Métodos abiertos:* diseñado para encontrar una raiz a partir de un valor dado arbitario, podrían encontrar más de una raíz. Se destacan:\n",
    "    * *Método de Newton-Raphson*\n",
    "    * *Método de la secante*\n",
    "    * *Método de punto fijo*"
   ]
  },
  {
   "cell_type": "markdown",
   "metadata": {
    "pycharm": {
     "name": "#%% md\n"
    }
   },
   "source": [
    "\n",
    "## 1.1 Sobre el Método gráfico\n",
    "\n",
    "Estem método consiste en graficar una función $f(x)$ sobre un intervalo $[a,b]$ y observar dónde cruza el $eje-x$. El valor de $x$ en el corte de la función con el eje representa una solución aproximada de la ecuación $f(x) = 0$."
   ]
  },
  {
   "cell_type": "code",
   "execution_count": 1,
   "metadata": {
    "pycharm": {
     "name": "#%%\n"
    }
   },
   "outputs": [],
   "source": [
    "#--- Colocar una imagen que explique el método gráfcio"
   ]
  },
  {
   "cell_type": "markdown",
   "metadata": {
    "pycharm": {
     "name": "#%% md\n"
    }
   },
   "source": [
    "Las técnicas gráficas tienen un valor práctico limitado, ya que no son precisas. Sin embargo se pueden utilizar para obtener aproximaciones de la raíz y luego utilizar un método más preciso. En otras palabras, dichas aproximaciones se pueden usar como valores iniciales de los otros métodos numéricos los cuales analizaremos más adelante."
   ]
  },
  {
   "cell_type": "markdown",
   "metadata": {
    "pycharm": {
     "name": "#%% md\n"
    }
   },
   "source": [
    "La siguiente función (_graficar_) realiza la gráfuca de una función $f$ sobre un intervalo $[x_i, x_f]$."
   ]
  },
  {
   "cell_type": "code",
   "execution_count": 6,
   "metadata": {
    "pycharm": {
     "name": "#%%\n"
    }
   },
   "outputs": [],
   "source": [
    "def graficar(f, x_i, x_f, num = 1000):\n",
    "    plt.style.use('seaborn')\n",
    "    \"\"\"\n",
    "    Gráfica de funciones algebraicas\n",
    "    :param f: función, previamente definida\n",
    "    :param x_i: límite inferior del intervalo\n",
    "    :param x_f: límite superior del intervalo\n",
    "    :param num: división del intervalo\n",
    "    :return: gráfica de la función\n",
    "    \"\"\"\n",
    "    x = np.linspace(x_i, x_f, num)\n",
    "    fig, ax = plt.subplots(figsize=(20,8))\n",
    "    ax.plot(x, f(x))\n",
    "    xmin, xmax = ax.get_xlim()\n",
    "    ymin, ymax = ax.get_ylim()\n",
    "    ax.annotate(\"\", xy=(xmax, 0), xytext=(xmin, 0),arrowprops=dict(color='gray', width=1.5, headwidth=8, headlength=10))\n",
    "    ax.annotate(\"\", xy=(0, ymax), xytext=(0, ymin),arrowprops=dict(color='gray', width=1.5, headwidth=8, headlength=10))\n",
    "    plt.show()\n",
    "    return None"
   ]
  },
  {
   "cell_type": "markdown",
   "metadata": {
    "pycharm": {
     "name": "#%% md\n"
    }
   },
   "source": [
    "### Ejemplo\n",
    "Encontrar las soluciones de la ecuación $e^x - 3 \\sin(x) = 3x$ con el método gráfico.\n",
    "\n",
    "#### Solución\n",
    "Lo primero que se debe hacer es igualar a cero y definir la función: $f(x) = e^x - 3 \\sin(x) - 3x$. \n",
    "Luego construimos la función en Python, podemos hacerlo utilizando con la expresión `lamnda` y con la librería `numpy`.\n",
    "\n",
    "> Observación: Al inciio de este cuaderno declaramos que ibamos a utilizar la librería numpy, mediante el comando `import numpy as np`\n",
    "\n",
    "Finalmente, escogemos un intervalo y graficamos. El intervalos seleccionado es $[-0.2, 2.5]$."
   ]
  },
  {
   "cell_type": "code",
   "execution_count": 8,
   "metadata": {
    "pycharm": {
     "name": "#%%\n"
    }
   },
   "outputs": [
    {
     "data": {
      "image/png": "[encoded data removed]",
      "text/plain": [
       "<Figure size 1440x576 with 1 Axes>"
      ]
     },
     "metadata": {},
     "output_type": "display_data"
    }
   ],
   "source": [
    "f = lambda x: np.e**x - 3*np.sin(x) - 3*x\n",
    "graficar(f, -0.2, 2.5)"
   ]
  },
  {
   "cell_type": "markdown",
   "metadata": {
    "pycharm": {
     "name": "#%% md\n"
    }
   },
   "source": [
    "En la gráfica anterior podemos identificar dos raíces de la función $f(x)$, en otras palabras, en el intervlalo $[-0.2, 2.5]$ hay dos soluciones de la ecuación $e^x - 3 \\sin(x) = 3x$"
   ]
  }
 ],
 "metadata": {
  "kernelspec": {
   "display_name": "Python 3.7.9 64-bit",
   "language": "python",
   "name": "python3"
  },
  "language_info": {
   "codemirror_mode": {
    "name": "ipython",
    "version": 3
   },
   "file_extension": ".py",
   "mimetype": "text/x-python",
   "name": "python",
   "nbconvert_exporter": "python",
   "pygments_lexer": "ipython3",
   "version": "3.7.9"
  },
  "vscode": {
   "interpreter": {
    "hash": "d983aa2a2bc164ca145b74c30a077245dc65a11395320957faf99b524e3477cb"
   }
  }
 },
 "nbformat": 4,
 "nbformat_minor": 1
}
