{
 "cells": [
  {
   "cell_type": "markdown",
   "metadata": {
    "id": "JXkmmCVDa3je",
    "pycharm": {
     "name": "#%% md\n"
    }
   },
   "source": [
    "# 1.1 Método de *Bisección*"
   ]
  },
  {
   "cell_type": "code",
   "execution_count": 1,
   "metadata": {
    "id": "EU8nua4HKOWt"
   },
   "outputs": [],
   "source": [
    "\n",
    "import numpy as np\n",
    "import numpy as np\n",
    "import matplotlib.pyplot as plt\n"
   ]
  },
  {
   "cell_type": "markdown",
   "metadata": {},
   "source": [
    "## Funciones en python"
   ]
  },
  {
   "cell_type": "code",
   "execution_count": 2,
   "metadata": {},
   "outputs": [],
   "source": [
    "\n",
    "    \n",
    "def graficar(f, x_i, x_f, num=1000):\n",
    "    plt.style.use('seaborn')\n",
    "    plt.ion()\n",
    "    \"\"\"\n",
    "    Gráfica de funciones algebraicas\n",
    "    :param f: función, previamente definida\n",
    "    :param x_i: límite inferior del intervalo\n",
    "    :param x_f: límite superior del intervalo\n",
    "    :param num: división del intervalo\n",
    "    :return: gráfica de la función\n",
    "    \"\"\"\n",
    "    x = np.linspace(x_i, x_f, num)\n",
    "    fig, ax = plt.subplots(figsize=(20, 8))\n",
    "    ax.plot(x, f(x))\n",
    "    xmin, xmax = ax.get_xlim()\n",
    "    ymin, ymax = ax.get_ylim()\n",
    "    ax.annotate(\"\", xy=(xmax, 0), xytext=(xmin, 0), arrowprops=dict(color='gray', width=1.5, headwidth=8, headlength=10))\n",
    "    ax.annotate(\"\", xy=(0, ymax), xytext=(0, ymin), arrowprops=dict(color='gray', width=1.5, headwidth=8, headlength=10))\n",
    "    #plt.show()\n",
    "    \n",
    "    return None\n",
    "\n",
    "def met_biseccion(f, a, b, tol=1e-4, n=50, verbose=True, print_error=False, deploy_error=False):\n",
    "    \"\"\"\n",
    "    Método de bisección\n",
    "    :param f: Funcion a la que se le intenta encontrar una solucion\n",
    "    para la ecuacion f(x)=0, previamente definida\n",
    "    :param a: límite inferior\n",
    "    :param b: límite superior\n",
    "    :param tol: toleracia, criterio de parada\n",
    "    :param n: número máximo de iteraciones, criterio de parada\n",
    "    :param verbose:\n",
    "    :param print_error:\n",
    "    :param deploy_error:\n",
    "    :return: solución exacta o aproximada, si tiene.\n",
    "    \"\"\"\n",
    "    if not f(a) * f(b) < 0:\n",
    "        print(f'El intervalo no funciona: f({a})={f(a):.2f}, f({b})={f(b):.2f}')\n",
    "        return None\n",
    "    i = 1\n",
    "    lista_errores = [abs(b - a)]\n",
    "    p_0 = a\n",
    "    while i <= n:\n",
    "        p_i = (b + a) / 2  # punto medio\n",
    "        e_abs = abs(p_0 - p_i)\n",
    "        if verbose:\n",
    "            print(f'ite {i:<2}: a_{i - 1:<2} = {a:.4f}, b_{i - 1:<2} = {b:.4f}, p_{i:<2} = {p_i:.5f}'\n",
    "                f' | e_abs: {e_abs:e}')\n",
    "\n",
    "        if f(p_i) == 0:\n",
    "            if print_error:\n",
    "                print(f'error x iteración: {lista_errores}')\n",
    "            print(f'>>> Solución exacta encontrada después de {i} iteraciones: x->{p_i:.15f}')\n",
    "            if deploy_error:\n",
    "                return lista_errores, p_i\n",
    "            else:\n",
    "                return p_i\n",
    "\n",
    "        if f(a) * f(p_i) < 0:\n",
    "            b = p_i\n",
    "        else:\n",
    "            a = p_i\n",
    "        p_0 = p_i\n",
    "        lista_errores.append(e_abs)\n",
    "        if e_abs < tol:\n",
    "            if print_error:\n",
    "                print(f'error x iteración: {lista_errores}')\n",
    "            print(f'>>> Solución encontrada después de {i} iteraciones: x->{p_i:.15f}')\n",
    "            if deploy_error:\n",
    "                return lista_errores, p_i\n",
    "            else:\n",
    "                return p_i\n",
    "        i += 1\n",
    "\n",
    "    if print_error:\n",
    "        print(f'error x iteración: {lista_errores}')\n",
    "    print('solución no encontrada, iteraciones agotadas')\n",
    "    return None"
   ]
  },
  {
   "cell_type": "markdown",
   "metadata": {
    "id": "K-DrE14bRIqB"
   },
   "source": [
    "## Marcó teorico\n",
    "\n"
   ]
  },
  {
   "cell_type": "markdown",
   "metadata": {
    "id": "7i43xntpe2NI"
   },
   "source": [
    "###  Introducción a ecuaciones de una variable.\n",
    "\n",
    "Antes de ahondar en el ejercicio de encontra raices *(ceros)* de una función  recordemos como se solucionan algunas funciones polinomiales de una sola variable, Por ejemplo, pensemos en la ecuación cuadratica de la forma clásica:\n",
    "\n",
    "\\begin{equation}\n",
    "f(x) = ax^2 + bx + c\n",
    "\\end{equation}\n",
    "\n",
    "Se puede resolver de la forma:\n",
    "\n",
    "\\begin{equation}\n",
    "x = \\frac{-b \\pm \\sqrt{b^2 - 4ac}}{a^2}\n",
    "\\end{equation}\n",
    "\n",
    "Y para este escenario en particular encontrar las $x$ en donde $f(x) = 0$ es sencillo, ahora pensemos en funciones mucho más complejas donde encontrar valores de $x$ tales que se cumpla la condición previamente dada seria muy complejo.\n",
    "\n",
    "Es aqui donde los métodos númericos vienen al rescate, para encontrar las posibles soluciones a ecuaciones del tipo:\n",
    "\n",
    "\\begin{equation}\n",
    "f(x) = 0\n",
    "\\end{equation}\n",
    "\n",
    " Donde $f(x)$ es un polinomio de la forma $f(x) = x^n + a_1x^{n-1} + ... + a_{n-1}x^1 + a_n$\n",
    "\n",
    "> Recuerda: Encontrar raices o ceros de las funciones es parte fundamental en la practica del desarrollo de actividades relacionadas con ciencia e ingenieria.\n",
    "\n",
    "Existen diferente métodos que se aplican a diferentes tipos de ecuaciones, y algunos métodos pueden resolver más de un tipo de ecuación.\n",
    "\n",
    "#### Tipos de métodos\n",
    "* *Métodos Locales:* estos métodos estan diseñados para buscar una raiz (cero de una función) de ecuaciones no lineales.\n",
    "* *Métodos Globales:* diseñado para encontrar una raiz a partir de un valor dado arbitario, podrian encontrar más de una raiz.\n",
    "* *Métodos de Iterativo:* pueden encontrar más de una raiz en un intervalo especifico dado perteneciente a un dominio de $x$. Se caracterizan por ser robustos y lentos.\n",
    "* *Método Gráfico:* ser caracteriza por ser utilizado a partir de un punto de vista gráfico de $f(x)$, teniendo en cuento un dominio concreto de $x$.\n",
    "\n",
    "\n",
    "#### Sobre el método bisección\n",
    "\n",
    "El método sirve para encontrar un valor apróximado de $x$  de modo que $f(x) = 0$ y pertenece al tipo de métodos iterativos.\n",
    "\n",
    "Para que el método biseccion funcione se debe cumplir que:\n",
    "\n",
    "> Dada una función $f(x)$ y sea continua en un intervalo $[a, b]$ se debe cumplir que $f(a)*f(b) < 0$.\n",
    "\n",
    "Por el teorema de Bolzano sabemos que: sí la funcion es continua en dicho intervalo luego $f(a)$ y $f(b)$ son de signos opuestos, luego esto implica que entre $a$ y $b$ existe al menos un $c$ tal que $f(c) = 0$. \n",
    "\n",
    "Luego el método de bisección toma esto como idea para crear su algoritmo iterativo. \n",
    "\n",
    "> $[a, b]$ → R es una función continua y $f(a)*f(b) < 0$, entonces por el teorema del valor\n",
    "intermedio se conoce que existe al menos una solución de la ecuación f (x) = 0 y es posible aplicar el\n",
    "siguiente procedimiento, denominado método de bisección, para determinar dicha solución.\n",
    "\n",
    "### El **método** explicado paso a paso:\n",
    "\n",
    "**Paso 1:**  Seleccionar un intervalo $[a, b]$ , que encierren la raíz, de forma tal que la función cambie de signo en el intervalo. Esto se verifica comprobando que $f(a)*f(b) < 0$.\n",
    "\n",
    "**Paso 2:**  Seleccionar un $m$ tal que $m = \\frac{a + b}{2}$. Se calcula el punto intermadio del intervalo.\n",
    "\n",
    "**Paso 3:** Se comprueba que $f(m) = 0$, si lo es, el método finaliza, en caso contrario continua.\n",
    "\n",
    "**Paso 4**. Realice las siguientes evaluaciones para determinar en qué subintervalo está\n",
    "la raíz:\n",
    "  * Sí $f(m) * f(a) < 0$, entonces la raíz se encuentra dentro del subintervalo inferior o izquierdo. Por lo tanto  $a = m$, se mantiene $b$ y vualva al **paso 2**.\n",
    "  * Sí $f(m) * f(b) > 0$, entonces la raíz se encuentra dentro del subintervalo superior o derecho. Por lo tanto $b = m$, se mantiene $a$ y vualva al **paso 2**.\n",
    "  * Sí $f(m) * f(a) = 0$, la raíz es igual $a; Termina el cáculo\n",
    "\n",
    "1. Sí $f(m) \\neq0$,  repita el paso 2 al 4 hasta que se logre una tolerancia de error pequeña ó se agoten el número de iteraciones.\n",
    "\n",
    "#### Sobre la tolerancia y la aproximación del error.\n",
    "\n",
    "Antes de mostar un ejempló sobre el método de bisección se debe abordar la definición de error ya que es de suma importancia para la materia de métodos númericos. Dado que ello depende la aceptación de la solución encontrada.\n",
    "\n",
    "De los tipos de errores encontrados en métodos númericos serian de dos tipos:\n",
    "\n",
    "* *Error de truncamiento:* el error que resulta de la solución de un problema por medio de la aproximación en vez de la solución analítica\n",
    "* *Error de redondeo:* provienen de la representación de números exactos debido a su limitante en las cifras significativas.\n",
    "\n",
    "Definamos el primero el Valor Verdadero ($V_v$), como:\n",
    "\n",
    "\\begin{equation}\n",
    "V_v = Aproximación + Tolerancia\n",
    "\\end{equation}\n",
    "\n",
    "Luego a partir del Valor Verdadero se puede definir el Error Verdadero ($E_v$) como:\n",
    "\n",
    "\\begin{equation}\n",
    "E_v = V_v - Aproximación\\\\\n",
    "\\end{equation}\n",
    "\n",
    "Con el Valor Verdadero y El error verdadero se puede construir el Error Relativo Fraccional: \n",
    "\n",
    "\\begin{equation}\n",
    "E_v = \\frac{V_v - Aproximacion}{E_v}\n",
    "\\end{equation}\n",
    "\n",
    "El cual puede ser expresado en forma de porcentaje tal que:\n",
    "\n",
    "\\begin{equation}\n",
    "E_v = \\frac{V_v - Aproximacion}{E_v} * 100 \\%\n",
    "\\end{equation}\n",
    "\n",
    "Y para finalizar, tambien se podria formalizar el error absoluto $|E_v|$ como:\n",
    "\n",
    "\\begin{equation}\n",
    "|E_v| = V_v - Aproximacion\n",
    "\\end{equation}\n",
    "\n",
    "**Graficamente de puede interpretar el métdo de Bisección**\n",
    "\n",
    "<img src=\"imagenes/mbiseccion.png\" title=\"Title text\"/>\n",
    "\n",
    "*Imagen del libro de Burden - Análisis numérico 10ed (2017)*\n",
    "\n",
    "************************\n"
   ]
  },
  {
   "cell_type": "markdown",
   "metadata": {
    "id": "SMAYpRUjRi9M"
   },
   "source": [
    "### Ejemplo práctico 1\n",
    "\n",
    "Resolver la ecuación:  $ e^x - sin(x) = 3x^2 = 0 $\n",
    "\n",
    "1. Graficar la ecuación en un intervalo a elección, para este caso el intervalo es $[0, 2]$:\n",
    "\n",
    "**Datos:**\n",
    "\n",
    "$f(x) = e^x - sin(x) = 3x^2 $\n",
    "\n",
    "$(a, b)$ = $(0, 2)$\n",
    "\n",
    "$a = 0$\n",
    "\n",
    "$b = 2$\n",
    "\n",
    "Aproximación = $10^{-5}$\n",
    "\n",
    "**Procedimiento:**\n",
    "\n",
    "*Paso 1:* Se recomeinda graficar antes de empezar el calculo\n",
    "\n",
    "*Paso 2:* Hallar punto medio $m = \\frac{a + b}{2}$\n",
    "\n",
    "*Paso 3:* Evaluar la función $f(a)$,$f(b)$,$f(m)$\n",
    "\n",
    "*Paso 4:* Determunar el nuevo intervalo\n",
    "\n",
    "*Paso 5:* Cacular el error  $e = \\frac{b + a}{2}$\n",
    "\n",
    "*Nota:* El procedimiento de los *Pasos del 2 al 5* se realizan ejecutando el *met_biseccion()*\n",
    "\n"
   ]
  },
  {
   "cell_type": "code",
   "execution_count": 3,
   "metadata": {
    "colab": {
     "base_uri": "https://localhost:8080/",
     "height": 320
    },
    "id": "eqOui5cVK6LV",
    "outputId": "6f3e0d85-f403-4b50-a1e7-943c9831a4b4"
   },
   "outputs": [
    {
     "data": {
      "image/png": "[encoded data removed]",
      "text/plain": [
       "<Figure size 1440x576 with 1 Axes>"
      ]
     },
     "metadata": {},
     "output_type": "display_data"
    }
   ],
   "source": [
    "f = lambda x: np.e**x - np.sin(x) - 3*x**2\n",
    "graficar(f, 0, 2)"
   ]
  },
  {
   "cell_type": "markdown",
   "metadata": {
    "id": "p-wlf59ZKcKz"
   },
   "source": [
    "Analizando la gráfica se puede observar que cuando $x = 0.65$ se obtendria que $f(x) = 0$.\n",
    "\n",
    "2. Ahora se puede ejecutar el método y comprobar la solución encontrada con el análisis gráfico:"
   ]
  },
  {
   "cell_type": "code",
   "execution_count": 4,
   "metadata": {
    "colab": {
     "base_uri": "https://localhost:8080/"
    },
    "id": "EuakfR1qa3ji",
    "outputId": "1be0f5b2-9885-449c-895b-8f0014d94045",
    "pycharm": {
     "name": "#%%\n"
    }
   },
   "outputs": [
    {
     "name": "stdout",
     "output_type": "stream",
     "text": [
      "ite 1 : a_0  = 0.0000, b_0  = 2.0000, p_1  = 1.00000 | e_abs: 1.000000e+00\n",
      "ite 2 : a_1  = 0.0000, b_1  = 1.0000, p_2  = 0.50000 | e_abs: 5.000000e-01\n",
      "ite 3 : a_2  = 0.5000, b_2  = 1.0000, p_3  = 0.75000 | e_abs: 2.500000e-01\n",
      "ite 4 : a_3  = 0.5000, b_3  = 0.7500, p_4  = 0.62500 | e_abs: 1.250000e-01\n",
      "ite 5 : a_4  = 0.6250, b_4  = 0.7500, p_5  = 0.68750 | e_abs: 6.250000e-02\n",
      "ite 6 : a_5  = 0.6250, b_5  = 0.6875, p_6  = 0.65625 | e_abs: 3.125000e-02\n",
      "ite 7 : a_6  = 0.6562, b_6  = 0.6875, p_7  = 0.67188 | e_abs: 1.562500e-02\n",
      "ite 8 : a_7  = 0.6562, b_7  = 0.6719, p_8  = 0.66406 | e_abs: 7.812500e-03\n",
      "ite 9 : a_8  = 0.6641, b_8  = 0.6719, p_9  = 0.66797 | e_abs: 3.906250e-03\n",
      "ite 10: a_9  = 0.6641, b_9  = 0.6680, p_10 = 0.66602 | e_abs: 1.953125e-03\n",
      "ite 11: a_10 = 0.6641, b_10 = 0.6660, p_11 = 0.66504 | e_abs: 9.765625e-04\n",
      "ite 12: a_11 = 0.6650, b_11 = 0.6660, p_12 = 0.66553 | e_abs: 4.882812e-04\n",
      "ite 13: a_12 = 0.6650, b_12 = 0.6655, p_13 = 0.66528 | e_abs: 2.441406e-04\n",
      "ite 14: a_13 = 0.6650, b_13 = 0.6653, p_14 = 0.66516 | e_abs: 1.220703e-04\n",
      "ite 15: a_14 = 0.6652, b_14 = 0.6653, p_15 = 0.66522 | e_abs: 6.103516e-05\n",
      "ite 16: a_15 = 0.6652, b_15 = 0.6653, p_16 = 0.66525 | e_abs: 3.051758e-05\n",
      "ite 17: a_16 = 0.6653, b_16 = 0.6653, p_17 = 0.66527 | e_abs: 1.525879e-05\n",
      "ite 18: a_17 = 0.6653, b_17 = 0.6653, p_18 = 0.66526 | e_abs: 7.629395e-06\n",
      ">>> Solución encontrada después de 18 iteraciones: x->0.665260314941406\n"
     ]
    },
    {
     "data": {
      "text/plain": [
       "0.6652603149414062"
      ]
     },
     "execution_count": 4,
     "metadata": {},
     "output_type": "execute_result"
    }
   ],
   "source": [
    "met_biseccion(f, 0, 2, tol=1e-5)"
   ]
  },
  {
   "cell_type": "code",
   "execution_count": null,
   "metadata": {},
   "outputs": [],
   "source": []
  },
  {
   "cell_type": "markdown",
   "metadata": {
    "id": "cqJZzPlCPpgq"
   },
   "source": [
    "### Ejercicios prácticos 2"
   ]
  },
  {
   "cell_type": "markdown",
   "metadata": {
    "id": "x9XCEGrxP11l"
   },
   "source": [
    "Resolver la ecuación $e^x - 3 sin (x) = 3x = 0$, con una tolerancia de $10^{-5}$\n",
    "\n",
    "**Datos:**\n",
    "\n",
    "$f(x) = e^x - 3 sin (x) = 3x$\n",
    "\n",
    "$(a, b)$ = $(0, 0.5)$\n",
    "\n",
    "$a = 0$\n",
    "\n",
    "$b = 0.5$\n",
    "\n",
    "Aproximación = $10^{-5}$\n",
    "\n",
    "**Procedimiento:**\n",
    "\n",
    "*Paso 1:* Se recomeinda graficar antes de empezar el calculo\n",
    "\n",
    "*Paso 2:* Hallar punto medio $m = \\frac{a + b}{2}$\n",
    "\n",
    "*Paso 3:* Evaluar la función $f(a)$,$f(b)$,$f(m)$\n",
    "\n",
    "*Paso 4:* Determunar el nuevo intervalo\n",
    "\n",
    "*Paso 5:* Cacular el error  $e = \\frac{b + a}{2}$\n",
    "\n",
    "*Nota:* El procedimiento de los *Pasos del 2 al 5* se realizan ejecutando el *met_biseccion()*"
   ]
  },
  {
   "cell_type": "code",
   "execution_count": 5,
   "metadata": {},
   "outputs": [
    {
     "data": {
      "image/png": "[encoded data removed]",
      "text/plain": [
       "<Figure size 1440x576 with 1 Axes>"
      ]
     },
     "metadata": {},
     "output_type": "display_data"
    }
   ],
   "source": [
    "f = lambda x: np.e**x - 3*np.sin(x) - 3*x\n",
    "# Función que grafica\n",
    "graficar(f, 0, 0.5)"
   ]
  },
  {
   "cell_type": "code",
   "execution_count": 6,
   "metadata": {
    "id": "yLm-Cawxa3jk",
    "pycharm": {
     "name": "#%%\n"
    }
   },
   "outputs": [
    {
     "name": "stdout",
     "output_type": "stream",
     "text": [
      "ite 1 : a_0  = 0.0000, b_0  = 0.5000, p_1  = 0.25000 | e_abs: 2.500000e-01\n",
      "ite 2 : a_1  = 0.0000, b_1  = 0.2500, p_2  = 0.12500 | e_abs: 1.250000e-01\n",
      "ite 3 : a_2  = 0.1250, b_2  = 0.2500, p_3  = 0.18750 | e_abs: 6.250000e-02\n",
      "ite 4 : a_3  = 0.1875, b_3  = 0.2500, p_4  = 0.21875 | e_abs: 3.125000e-02\n",
      "ite 5 : a_4  = 0.1875, b_4  = 0.2188, p_5  = 0.20312 | e_abs: 1.562500e-02\n",
      "ite 6 : a_5  = 0.2031, b_5  = 0.2188, p_6  = 0.21094 | e_abs: 7.812500e-03\n",
      "ite 7 : a_6  = 0.2031, b_6  = 0.2109, p_7  = 0.20703 | e_abs: 3.906250e-03\n",
      "ite 8 : a_7  = 0.2031, b_7  = 0.2070, p_8  = 0.20508 | e_abs: 1.953125e-03\n",
      "ite 9 : a_8  = 0.2051, b_8  = 0.2070, p_9  = 0.20605 | e_abs: 9.765625e-04\n",
      "ite 10: a_9  = 0.2051, b_9  = 0.2061, p_10 = 0.20557 | e_abs: 4.882812e-04\n",
      "ite 11: a_10 = 0.2051, b_10 = 0.2056, p_11 = 0.20532 | e_abs: 2.441406e-04\n",
      "ite 12: a_11 = 0.2053, b_11 = 0.2056, p_12 = 0.20544 | e_abs: 1.220703e-04\n",
      "ite 13: a_12 = 0.2053, b_12 = 0.2054, p_13 = 0.20538 | e_abs: 6.103516e-05\n",
      "ite 14: a_13 = 0.2054, b_13 = 0.2054, p_14 = 0.20541 | e_abs: 3.051758e-05\n",
      "ite 15: a_14 = 0.2054, b_14 = 0.2054, p_15 = 0.20540 | e_abs: 1.525879e-05\n",
      "ite 16: a_15 = 0.2054, b_15 = 0.2054, p_16 = 0.20539 | e_abs: 7.629395e-06\n",
      ">>> Solución encontrada después de 16 iteraciones: x->0.205390930175781\n"
     ]
    },
    {
     "data": {
      "text/plain": [
       "0.20539093017578125"
      ]
     },
     "execution_count": 6,
     "metadata": {},
     "output_type": "execute_result"
    }
   ],
   "source": [
    "\n",
    "met_biseccion(f, 0, 0.5, tol=1e-5)"
   ]
  }
 ],
 "metadata": {
  "colab": {
   "name": "1.1_Metodo_biseccion.ipynb.txt",
   "provenance": []
  },
  "kernelspec": {
   "display_name": "Python 3 (ipykernel)",
   "language": "python",
   "name": "python3"
  },
  "language_info": {
   "codemirror_mode": {
    "name": "ipython",
    "version": 3
   },
   "file_extension": ".py",
   "mimetype": "text/x-python",
   "name": "python",
   "nbconvert_exporter": "python",
   "pygments_lexer": "ipython3",
   "version": "3.7.9"
  },
  "vscode": {
   "interpreter": {
    "hash": "d983aa2a2bc164ca145b74c30a077245dc65a11395320957faf99b524e3477cb"
   }
  }
 },
 "nbformat": 4,
 "nbformat_minor": 1
}
