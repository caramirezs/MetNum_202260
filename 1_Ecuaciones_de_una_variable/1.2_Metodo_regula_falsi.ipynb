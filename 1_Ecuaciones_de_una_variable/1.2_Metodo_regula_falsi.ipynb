{
 "cells": [
  {
   "cell_type": "markdown",
   "metadata": {
    "collapsed": true,
    "pycharm": {
     "name": "#%% md\n"
    }
   },
   "source": [
    "# 1.2 Método *regula falsi*"
   ]
  },
  {
   "cell_type": "markdown",
   "metadata": {
    "collapsed": false,
    "pycharm": {
     "name": "#%% md\n"
    }
   },
   "source": [
    "[![Open In Colab](https://colab.research.google.com/assets/colab-badge.svg)](https://colab.research.google.com/github/caramirezs/MetNum_202210/blob/main/1_Ecuaciones_de_una_variable/1.2_Metodo_regula_falsi.ipynb)"
   ]
  },
  {
   "cell_type": "code",
   "execution_count": 3,
   "metadata": {
    "collapsed": false,
    "pycharm": {
     "name": "#%%\n"
    }
   },
   "outputs": [],
   "source": [
    "import numpy as np\n",
    "import numpy as np\n",
    "import matplotlib.pyplot as plt"
   ]
  },
  {
   "cell_type": "markdown",
   "metadata": {},
   "source": [
    "## Funciones en python"
   ]
  },
  {
   "cell_type": "code",
   "execution_count": 4,
   "metadata": {},
   "outputs": [],
   "source": [
    "def graficar(f, x_i, x_f, num=1000):\n",
    "        plt.style.use('seaborn')\n",
    "        plt.ion()\n",
    "        \"\"\"\n",
    "        Gráfica de funciones algebraicas\n",
    "        :param f: función, previamente definida\n",
    "        :param x_i: límite inferior del intervalo\n",
    "        :param x_f: límite superior del intervalo\n",
    "        :param num: división del intervalo\n",
    "        :return: gráfica de la función\n",
    "        \"\"\"\n",
    "        x = np.linspace(x_i, x_f, num)\n",
    "        fig, ax = plt.subplots(figsize=(20, 8))\n",
    "        ax.plot(x, f(x))\n",
    "        xmin, xmax = ax.get_xlim()\n",
    "        ymin, ymax = ax.get_ylim()\n",
    "        ax.annotate(\"\", xy=(xmax, 0), xytext=(xmin, 0), arrowprops=dict(color='gray', width=1.5, headwidth=8, headlength=10))\n",
    "        ax.annotate(\"\", xy=(0, ymax), xytext=(0, ymin), arrowprops=dict(color='gray', width=1.5, headwidth=8, headlength=10))\n",
    "        #plt.show()\n",
    "        \n",
    "        return None\n",
    "\n",
    "def met_regula_falsi(f, a, b, tol=1e-4, n=50, verbose=True, print_error=False, deploy_error=False):\n",
    "        \"\"\"\n",
    "        Método de regula falsi\n",
    "        :param f: Funcion a la que se le intenta encontrar una solucion\n",
    "        para la ecuacion f(x)=0, previamente definida\n",
    "        :param a: límite inferior\n",
    "        :param b: límite superior\n",
    "        :param tol: toleracia, criterio de parada\n",
    "        :param n: número máximo de iteraciones, criterio de parada\n",
    "        :param verbose:\n",
    "        :param print_error:\n",
    "        :param deploy_error:\n",
    "        :return: solución exacta o aproximada, si tiene.\n",
    "        \"\"\"\n",
    "        if not f(a) * f(b) < 0:\n",
    "            print(f'El intervalo no funciona: f({a})={f(a):.2f}, f({b})={f(b):.2f}')\n",
    "            return None\n",
    "        i = 1\n",
    "        lista_errores = [abs(b - a)]\n",
    "        p_0 = a\n",
    "        while i <= n:\n",
    "            p_i = a - (f(a) * (b - a)) / (f(b) - f(a))  # falsa posición\n",
    "            e_abs = abs(p_0 - p_i)\n",
    "            if verbose:\n",
    "                print(f'ite {i:<2}: a_{i - 1:<2} = {a:.4f}, b_{i - 1:<2} = {b:.4f}, p_{i:<2} = {p_i:.5f}'\n",
    "                    f' | e_abs: {e_abs:e}')\n",
    "\n",
    "            if f(p_i) == 0:\n",
    "                if print_error:\n",
    "                    print(f'error x iteración: {lista_errores}')\n",
    "                print(f'>>> Solución exacta encontrada después de {i} iteraciones: x->{p_i:.15f}')\n",
    "                if deploy_error:\n",
    "                    return lista_errores, p_i\n",
    "                else:\n",
    "                    return p_i\n",
    "            if f(a) * f(p_i) < 0:\n",
    "                b = p_i\n",
    "            else:\n",
    "                a = p_i\n",
    "            p_0 = p_i\n",
    "            lista_errores.append(e_abs)\n",
    "            if e_abs < tol:\n",
    "                if print_error:\n",
    "                    print(f'error x iteración: {lista_errores}')\n",
    "                print(f'>>> Solución encontrada después de {i} iteraciones: x->{p_i:.15f}')\n",
    "                if deploy_error:\n",
    "                    return lista_errores, p_i\n",
    "                else:\n",
    "                    return p_i\n",
    "            i += 1\n",
    "\n",
    "        if print_error:\n",
    "            print(f'error x iteración: {lista_errores}')\n",
    "        print('solución no encontrada, iteraciones agotadas')\n",
    "        return None    "
   ]
  },
  {
   "cell_type": "markdown",
   "metadata": {},
   "source": [
    "El **método de posición falsa** (también llamado *Regula Falsi*) genera aproximaciones\n",
    "de la misma manera que el método de la secante, pero incluye una prueba para garantizar que\n",
    "la raíz siempre se agrupa entre iteraciones sucesivas. A pesar de que no es un método que por\n",
    "lo general recomendamos, ilustra cómo se puede integrar la agrupación.\n",
    "\n",
    "Este método es un intento por aumentar la rapidez del método de bisección. Los algoritmos solo se\n",
    "diferencian en el punto del intervalo que calculan. Mientras en bisección es el punto medio, en regula\n",
    "falsi es el corte con el eje x de la recta que une los puntos extremos de la gráfica definida en el intervalo\n",
    "$[a_n, b_n]$.\n",
    "\n",
    "Si $a_n$ y $b_n$ son los extremos del intervalo, entonces la ecuación de la recta que contiene los puntos\n",
    "$(a_n, f(a_n))$ y $(b_n, f(n))$ es $y=\\frac{f(b_n) - f(a_n)}{b_n-a_n}(x-a_n)+f(a_n)$,y su corte con el eje $x, a_n-\\frac{f(a_n)(b_n - a_n)}{f(b_n)-f(a_n)}$, define el punto $c_n$, que se espera sea una mejor aproximación.\n",
    "\n",
    "**Observación:** las condiciones necesarias para asegurar la convergencia del método de regula falsi\n",
    "corresponden a las condiciones del método de bisección. Aunque no es posible aplicar la formula del\n",
    "método de bisección para calcular la cantidad de iteraciones necesarias en su ejecución, se espera lograr\n",
    "la precisión establecida en un menor número de iteraciones.\n",
    "\n",
    "### 2.1 Sobre el método de **Regula Falsi** (*método de posición falsa*)\n",
    "\n",
    "El método sirve para encontrar un valor apróximado de $x$  de modo que $f(x) = 0$ y pertenece al tipo de métodos iterativos.\n",
    "\n",
    "Si $f(x)= 0$, entonces $x=y$, fin del calculo\n",
    "\n",
    "Dada una función $f(x)$ y sea continua en un intervalo $[a, b]$ se debe cumplir que $f(a)*f(b) < 0$, garantiza la convergencia\n",
    "\n",
    "### Parametros\n",
    "\n",
    "* $f(x)$ = funcion de x \n",
    "* $[a, b] $= Intervalos\n",
    "* $TOL$ = Tolerancia\n",
    "* $n-máx$ = Número maximo de iteraciones\n",
    "\n",
    "### Formula\n",
    "\n",
    "$p_i = a_n-\\frac{f(a_n)(b_n - a_n)}{f(b_n)-f(a_n)}$\n",
    "\n",
    "$a \\to p_{i-1}$ ó $b \\to p_{i-1}$\n",
    "\n",
    "$eabs= |p_i-p_{i-1}|$\n",
    "\n",
    "### STOP\n",
    "\n",
    "$eabs < TOL$df\n",
    "\n",
    "\n",
    "**Graficamente de puede interpretar el métdo de Regular Falsi**\n",
    "\n",
    "<img src=\"imagenes/mregularfalsi.png\"/>\n",
    "\n",
    "*Imagen del libro de Burden - Análisis numérico 10ed (2017)*\n",
    "\n",
    "**************************************\n",
    "\n"
   ]
  },
  {
   "cell_type": "markdown",
   "metadata": {},
   "source": [
    "## Algoritmo\n",
    "\n",
    "EL código de  los metodos __graficar, met_regula_falsi__ se encuentra en las ruta : *1_Ecuaciones_de_una_variable\\lib\\Equations_one_variable.py*"
   ]
  },
  {
   "cell_type": "markdown",
   "metadata": {},
   "source": [
    "# Ejemplo Práctico\n",
    "\n",
    "\n",
    "Resolver la ecuación $e^x - sin(x) = 3x $\n",
    "\n",
    "1. Graficar la ecuación en un intervalo a elección, para este caso el intervalo es $[0, 0.5]$:\n",
    "\n",
    "**Datos**\n",
    "\n",
    "$f(x)$ = $e^x - sin(x) = 3x $\n",
    "\n",
    "$(a, b)$ = $(0, 0.5)$\n",
    "\n",
    "$a$ = $0$\n",
    "\n",
    "$b$ = $0.5$\n",
    "\n",
    "Aproximación = $10^{-4}$\n",
    "\n",
    "**Procedimiento:**\n",
    "\n",
    "*Paso 1:* Se recomeinda graficar antes de empezar el calculo\n",
    "\n",
    "*Paso 2:* Evaluar $f(a)$ y $f(b)$\n",
    "\n",
    "*Paso 3:* Optener $p_i$\n",
    "\n",
    "\\begin{equation}\n",
    "p_i = a_n-\\frac{f(a_n)(b_n - a_n)}{f(b_n)-f(a_n)}\n",
    "\\end{equation}\n",
    "\n",
    "*Paso 4:* Optener $f(p_i)$\n",
    "\n",
    "*Paso 5:* Determunar el nuevo intervalo\n",
    "\n",
    "*Paso 6:* Cacular el error  $eabs = |p_i-p_{i-1}|$\n",
    "\n",
    "*Nota:* El procedimiento de los *Pasos del 2 al 6* se realizan ejecutando el *met_regula_falsi()*"
   ]
  },
  {
   "cell_type": "code",
   "execution_count": 5,
   "metadata": {},
   "outputs": [
    {
     "data": {
      "image/png": "[encoded data removed]",
      "text/plain": [
       "<Figure size 1440x576 with 1 Axes>"
      ]
     },
     "metadata": {},
     "output_type": "display_data"
    }
   ],
   "source": [
    "# Función expresada en python\n",
    "f = lambda x: np.e**x - 3*np.sin(x) - 3*x\n",
    "graficar(f, 0, 0.5)"
   ]
  },
  {
   "cell_type": "code",
   "execution_count": 6,
   "metadata": {
    "collapsed": false,
    "pycharm": {
     "name": "#%%\n"
    }
   },
   "outputs": [
    {
     "name": "stdout",
     "output_type": "stream",
     "text": [
      "ite 1 : a_0  = 0.0000, b_0  = 0.5000, p_1  = 0.21838 | e_abs: 2.183830e-01\n",
      "ite 2 : a_1  = 0.0000, b_1  = 0.2184, p_2  = 0.20582 | e_abs: 1.256315e-02\n",
      "ite 3 : a_2  = 0.0000, b_2  = 0.2058, p_3  = 0.20540 | e_abs: 4.184166e-04\n",
      "ite 4 : a_3  = 0.0000, b_3  = 0.2054, p_4  = 0.20539 | e_abs: 1.374833e-05\n",
      ">>> Solución encontrada después de 4 iteraciones: x->0.205387697357079\n"
     ]
    },
    {
     "data": {
      "text/plain": [
       "0.205387697357079"
      ]
     },
     "execution_count": 6,
     "metadata": {},
     "output_type": "execute_result"
    }
   ],
   "source": [
    "met_regula_falsi(f, 0, 0.5, tol=1e-4)"
   ]
  },
  {
   "cell_type": "markdown",
   "metadata": {},
   "source": [
    "# Ejemplo Práctico\n",
    "\n",
    "\n",
    "Resolver la ecuación $x^10 -1$\n",
    "\n",
    "1. Graficar la ecuación en un intervalo a elección, para este caso el intervalo es $[0, 1.2]$:\n",
    "\n",
    "**Datos**\n",
    "\n",
    "$f(x)$ = $$x^10 -1$\n",
    "\n",
    "$(a, b)$ = $([0, 1.2)$\n",
    "\n",
    "$a$ = $0$\n",
    "\n",
    "$b$ = $1.2$\n",
    "\n",
    "Aproximación = $10^{-15}$\n",
    "\n",
    "**Procedimiento:**\n",
    "\n",
    "*Paso 1:* Se recomeinda graficar antes de empezar el calculo\n",
    "\n",
    "*Paso 2:* Evaluar $f(a)$ y $f(b)$\n",
    "\n",
    "*Paso 3:* Optener $p_i$\n",
    "\n",
    "\\begin{equation}\n",
    "p_i = a_n-\\frac{f(a_n)(b_n - a_n)}{f(b_n)-f(a_n)}\n",
    "\\end{equation}\n",
    "\n",
    "*Paso 4:* Optener $f(p_i)$\n",
    "\n",
    "*Paso 5:* Determunar el nuevo intervalo\n",
    "\n",
    "*Paso 6:* Cacular el error  $eabs = |p_i-p_{i-1}|$\n",
    "\n",
    "*Nota:* El procedimiento de los *Pasos del 2 al 6* se realizan ejecutando el *met_regula_falsi()*"
   ]
  },
  {
   "cell_type": "code",
   "execution_count": 7,
   "metadata": {
    "collapsed": false,
    "pycharm": {
     "name": "#%%\n"
    }
   },
   "outputs": [
    {
     "data": {
      "image/png": "[encoded data removed]",
      "text/plain": [
       "<Figure size 1080x360 with 1 Axes>"
      ]
     },
     "metadata": {},
     "output_type": "display_data"
    }
   ],
   "source": [
    "f = lambda x: x**10 - 1\n",
    "graficar(f, 0, 1.2)"
   ]
  },
  {
   "cell_type": "code",
   "execution_count": 8,
   "metadata": {},
   "outputs": [
    {
     "name": "stdout",
     "output_type": "stream",
     "text": [
      "ite 1 : a_0  = 0.0000, b_0  = 1.2000, p_1  = 0.19381\n",
      "ite 2 : a_1  = 0.1938, b_1  = 1.2000, p_2  = 0.35631\n",
      "ite 3 : a_2  = 0.3563, b_2  = 1.2000, p_3  = 0.49257\n",
      "ite 4 : a_3  = 0.4926, b_3  = 1.2000, p_4  = 0.60674\n",
      "ite 5 : a_4  = 0.6067, b_4  = 1.2000, p_5  = 0.70201\n",
      "ite 6 : a_5  = 0.7020, b_5  = 1.2000, p_6  = 0.78047\n",
      "ite 7 : a_6  = 0.7805, b_6  = 1.2000, p_7  = 0.84340\n",
      "ite 8 : a_7  = 0.8434, b_7  = 1.2000, p_8  = 0.89193\n",
      "ite 9 : a_8  = 0.8919, b_8  = 1.2000, p_9  = 0.92767\n",
      "ite 10: a_9  = 0.9277, b_9  = 1.2000, p_10 = 0.95281\n",
      "ite 11: a_10 = 0.9528, b_10 = 1.2000, p_11 = 0.96981\n",
      "ite 12: a_11 = 0.9698, b_11 = 1.2000, p_12 = 0.98095\n",
      "ite 13: a_12 = 0.9809, b_12 = 1.2000, p_13 = 0.98809\n",
      "ite 14: a_13 = 0.9881, b_13 = 1.2000, p_14 = 0.99260\n",
      "ite 15: a_14 = 0.9926, b_14 = 1.2000, p_15 = 0.99542\n",
      "ite 16: a_15 = 0.9954, b_15 = 1.2000, p_16 = 0.99717\n",
      "ite 17: a_16 = 0.9972, b_16 = 1.2000, p_17 = 0.99826\n",
      "ite 18: a_17 = 0.9983, b_17 = 1.2000, p_18 = 0.99893\n",
      "ite 19: a_18 = 0.9989, b_18 = 1.2000, p_19 = 0.99934\n",
      "ite 20: a_19 = 0.9993, b_19 = 1.2000, p_20 = 0.99959\n",
      "ite 21: a_20 = 0.9996, b_20 = 1.2000, p_21 = 0.99975\n",
      "ite 22: a_21 = 0.9998, b_21 = 1.2000, p_22 = 0.99985\n",
      "ite 23: a_22 = 0.9998, b_22 = 1.2000, p_23 = 0.99991\n",
      "ite 24: a_23 = 0.9999, b_23 = 1.2000, p_24 = 0.99994\n",
      "ite 25: a_24 = 0.9999, b_24 = 1.2000, p_25 = 0.99996\n",
      "ite 26: a_25 = 1.0000, b_25 = 1.2000, p_26 = 0.99998\n",
      "ite 27: a_26 = 1.0000, b_26 = 1.2000, p_27 = 0.99999\n",
      "ite 28: a_27 = 1.0000, b_27 = 1.2000, p_28 = 0.99999\n",
      "ite 29: a_28 = 1.0000, b_28 = 1.2000, p_29 = 0.99999\n",
      "ite 30: a_29 = 1.0000, b_29 = 1.2000, p_30 = 1.00000\n",
      "ite 31: a_30 = 1.0000, b_30 = 1.2000, p_31 = 1.00000\n",
      "ite 32: a_31 = 1.0000, b_31 = 1.2000, p_32 = 1.00000\n",
      "ite 33: a_32 = 1.0000, b_32 = 1.2000, p_33 = 1.00000\n",
      "ite 34: a_33 = 1.0000, b_33 = 1.2000, p_34 = 1.00000\n",
      "ite 35: a_34 = 1.0000, b_34 = 1.2000, p_35 = 1.00000\n",
      "ite 36: a_35 = 1.0000, b_35 = 1.2000, p_36 = 1.00000\n",
      "ite 37: a_36 = 1.0000, b_36 = 1.2000, p_37 = 1.00000\n",
      "ite 38: a_37 = 1.0000, b_37 = 1.2000, p_38 = 1.00000\n",
      "ite 39: a_38 = 1.0000, b_38 = 1.2000, p_39 = 1.00000\n",
      "ite 40: a_39 = 1.0000, b_39 = 1.2000, p_40 = 1.00000\n",
      "ite 41: a_40 = 1.0000, b_40 = 1.2000, p_41 = 1.00000\n",
      "ite 42: a_41 = 1.0000, b_41 = 1.2000, p_42 = 1.00000\n",
      "ite 43: a_42 = 1.0000, b_42 = 1.2000, p_43 = 1.00000\n",
      "ite 44: a_43 = 1.0000, b_43 = 1.2000, p_44 = 1.00000\n",
      "ite 45: a_44 = 1.0000, b_44 = 1.2000, p_45 = 1.00000\n",
      "ite 46: a_45 = 1.0000, b_45 = 1.2000, p_46 = 1.00000\n",
      "ite 47: a_46 = 1.0000, b_46 = 1.2000, p_47 = 1.00000\n",
      "ite 48: a_47 = 1.0000, b_47 = 1.2000, p_48 = 1.00000\n",
      "ite 49: a_48 = 1.0000, b_48 = 1.2000, p_49 = 1.00000\n",
      "ite 50: a_49 = 1.0000, b_49 = 1.2000, p_50 = 1.00000\n",
      "ite 51: a_50 = 1.0000, b_50 = 1.2000, p_51 = 1.00000\n",
      "ite 52: a_51 = 1.0000, b_51 = 1.2000, p_52 = 1.00000\n",
      "ite 53: a_52 = 1.0000, b_52 = 1.2000, p_53 = 1.00000\n",
      "ite 54: a_53 = 1.0000, b_53 = 1.2000, p_54 = 1.00000\n",
      "ite 55: a_54 = 1.0000, b_54 = 1.2000, p_55 = 1.00000\n",
      "ite 56: a_55 = 1.0000, b_55 = 1.2000, p_56 = 1.00000\n",
      "ite 57: a_56 = 1.0000, b_56 = 1.2000, p_57 = 1.00000\n",
      "ite 58: a_57 = 1.0000, b_57 = 1.2000, p_58 = 1.00000\n",
      "ite 59: a_58 = 1.0000, b_58 = 1.2000, p_59 = 1.00000\n",
      "ite 60: a_59 = 1.0000, b_59 = 1.2000, p_60 = 1.00000\n",
      "ite 61: a_60 = 1.0000, b_60 = 1.2000, p_61 = 1.00000\n",
      "ite 62: a_61 = 1.0000, b_61 = 1.2000, p_62 = 1.00000\n",
      "ite 63: a_62 = 1.0000, b_62 = 1.2000, p_63 = 1.00000\n",
      "ite 64: a_63 = 1.0000, b_63 = 1.2000, p_64 = 1.00000\n",
      "ite 65: a_64 = 1.0000, b_64 = 1.2000, p_65 = 1.00000\n",
      "ite 66: a_65 = 1.0000, b_65 = 1.2000, p_66 = 1.00000\n",
      "ite 67: a_66 = 1.0000, b_66 = 1.2000, p_67 = 1.00000\n",
      "ite 68: a_67 = 1.0000, b_67 = 1.2000, p_68 = 1.00000\n",
      "ite 69: a_68 = 1.0000, b_68 = 1.2000, p_69 = 1.00000\n",
      "ite 70: a_69 = 1.0000, b_69 = 1.2000, p_70 = 1.00000\n",
      "ite 71: a_70 = 1.0000, b_70 = 1.2000, p_71 = 1.00000\n",
      "ite 72: a_71 = 1.0000, b_71 = 1.2000, p_72 = 1.00000\n",
      "ite 73: a_72 = 1.0000, b_72 = 1.2000, p_73 = 1.00000\n",
      "ite 74: a_73 = 1.0000, b_73 = 1.2000, p_74 = 1.00000\n",
      "solución encontrada\n"
     ]
    },
    {
     "data": {
      "text/plain": [
       "0.9999999999999984"
      ]
     },
     "execution_count": 8,
     "metadata": {},
     "output_type": "execute_result"
    }
   ],
   "source": [
    "met_regula_falsi(f, 0, 1.2, tol=1e-15, n=500)"
   ]
  }
 ],
 "metadata": {
  "kernelspec": {
   "display_name": "Python 3.7.9 64-bit",
   "language": "python",
   "name": "python3"
  },
  "language_info": {
   "codemirror_mode": {
    "name": "ipython",
    "version": 3
   },
   "file_extension": ".py",
   "mimetype": "text/x-python",
   "name": "python",
   "nbconvert_exporter": "python",
   "pygments_lexer": "ipython3",
   "version": "3.7.9"
  },
  "vscode": {
   "interpreter": {
    "hash": "d983aa2a2bc164ca145b74c30a077245dc65a11395320957faf99b524e3477cb"
   }
  }
 },
 "nbformat": 4,
 "nbformat_minor": 0
}
